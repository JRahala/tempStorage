{
  "nbformat": 4,
  "nbformat_minor": 0,
  "metadata": {
    "colab": {
      "name": "2020-08-31-Jam-Lesson0",
      "provenance": [],
      "collapsed_sections": [],
      "include_colab_link": true
    },
    "kernelspec": {
      "name": "python3",
      "display_name": "Python 3"
    }
  },
  "cells": [
    {
      "cell_type": "markdown",
      "metadata": {
        "id": "view-in-github",
        "colab_type": "text"
      },
      "source": [
        "<a href=\"https://colab.research.google.com/github/JRahala/tempStorage/blob/master/2020_08_31_Jam_Lesson0.ipynb\" target=\"_parent\"><img src=\"https://colab.research.google.com/assets/colab-badge.svg\" alt=\"Open In Colab\"/></a>"
      ]
    },
    {
      "cell_type": "markdown",
      "metadata": {
        "id": "W0l8coGdmyaI",
        "colab_type": "text"
      },
      "source": [
        "# Lesson 0: COVID-19 Outbreak Analysis"
      ]
    },
    {
      "cell_type": "markdown",
      "metadata": {
        "id": "wf5ibdMS8C8W",
        "colab_type": "text"
      },
      "source": [
        "### Teacher-Student Activities\n",
        "\n",
        "We all know that coronavirus is spreading on a daily basis in India. So, let's try to visualise how fast it is spreading.\n",
        "\n",
        "First, let's look at the dashboard created by Johns Hopkins University. You can look at the following live dashboard to see the real-time trend.\n",
        "\n",
        "[COVID-19 Live Dashboard](https://www.arcgis.com/apps/opsdashboard/index.html#/bda7594740fd40299423467b48e9ecf6)\n",
        "\n",
        "Now, let's create a similar map for India using Python to visualise the most affected states in India due to coronavirus. After the class, you can share it with your parents, relatives and friends by sending them the link to the map."
      ]
    },
    {
      "cell_type": "markdown",
      "metadata": {
        "id": "LH4QfpXOmwyk",
        "colab_type": "text"
      },
      "source": [
        "---"
      ]
    },
    {
      "cell_type": "markdown",
      "metadata": {
        "id": "ZdRaRNsDu37s",
        "colab_type": "text"
      },
      "source": [
        "**At this point, the student should share/present their screen with the teacher.**"
      ]
    },
    {
      "cell_type": "markdown",
      "metadata": {
        "id": "4vbg610OmKQj",
        "colab_type": "text"
      },
      "source": [
        "---"
      ]
    },
    {
      "cell_type": "markdown",
      "metadata": {
        "id": "L_Opp5fyeA6V",
        "colab_type": "text"
      },
      "source": [
        "#### Activity 1: Run Source Code\n",
        "\n",
        "This is the source code for the map to be created. You will learn to write it after signing up for the applied tech course. Right now, you just have to execute the code."
      ]
    },
    {
      "cell_type": "code",
      "metadata": {
        "id": "fbsMjhp2vZlE",
        "colab_type": "code",
        "colab": {
          "base_uri": "https://localhost:8080/",
          "height": 479
        },
        "outputId": "589b61a4-5eac-4d21-e816-03ab7d2d28a8"
      },
      "source": [
        "# Student Action: Run the code below.\n",
        "# Download data\n",
        "!git clone https://github.com/CSSEGISandData/COVID-19.git\n",
        "\n",
        "# Install 'geocoder'\n",
        "!pip install geocoder\n",
        "\n",
        "# Importing modules\n",
        "import pandas as pd  \n",
        "import matplotlib.pyplot as plt \n",
        "import seaborn as sns\n",
        "import datetime \n",
        "import geocoder\n",
        "import folium\n",
        "from folium import plugins \n",
        "\n",
        "# DataFrame for the world\n",
        "conf_csv = '/content/COVID-19/csse_covid_19_data/csse_covid_19_time_series/time_series_covid19_confirmed_global.csv'\n",
        "conf_df = pd.read_csv(conf_csv)\n",
        "grouped_conf_df = conf_df.groupby(by = ['Country/Region'], as_index = False).sum()\n",
        "\n",
        "# DataFrame for India\n",
        "india_df = pd.read_csv(\"https://api.covid19india.org/csv/latest/state_wise.csv\")\n",
        "india_df = india_df.iloc[1:36, :]\n",
        "# state_latitudes = []\n",
        "# state_longitudes = []\n",
        "# for i in india_df.index:\n",
        "#     state = india_df['State'][i]\n",
        "#     state_lat = geocoder.osm(state).lat\n",
        "#     state_lng = geocoder.osm(state).lng\n",
        "#     state_latitudes.append(state_lat)\n",
        "#     state_longitudes.append(state_lng)\n",
        "\n",
        "# state_latitudes = pd.Series(data = state_latitudes, index = india_df.index)\n",
        "# state_longitudes = pd.Series(data = state_longitudes, index = india_df.index)\n",
        "# india_df['Latitude'] = state_latitudes\n",
        "# india_df['Longitude'] = state_longitudes\n",
        "\n",
        "state_coordinates = [(19.7515, 75.7139), # Maharashtra\n",
        "                    (11.1271, 78.6569), # Tamil Nadu\n",
        "                    (15.9129, 79.7400), # Andhra Pradesh\n",
        "                    (15.317, 75.7139), # Karnataka\n",
        "                    (28.7041, 77.1025), # Delhi\n",
        "                    (26.8467, 80.9462), # UP\n",
        "                    (22.9868, 87.8550), # WB\n",
        "                    (25.0961, 85.3131), # Bihar\n",
        "                    (18.1124, 79.0193), # Telangana\n",
        "                    (22.2587, 71.1924), # Gujarat\n",
        "                    (26.2006, 92.9376), # Assam\n",
        "                    (27.0238, 74.2179), # Rajasthan\n",
        "                    (20.9517, 85.0985), # Odisha\n",
        "                    (29.0588, 76.0856), # Haryana\n",
        "                    (22.9734, 78.6569), # Madhya Pradesh\n",
        "                    (10.8505, 76.2711), # Kerala\n",
        "                    (31.1471, 75.3412), # Punjab\n",
        "                    (33.7782, 76.5762), # Jammu and Kashmir\n",
        "                    (23.6102, 85.2799), # Jharkhand\n",
        "                    (21.2787, 81.8661), # Chattisgarh\n",
        "                    (30.0668, 79.0193), # Uttarakhand\n",
        "                    (15.2993, 74.1240), # Goa\n",
        "                    (23.9408, 91.9882), # Tripura\n",
        "                    (11.9416, 79.8083), # Puducherry\n",
        "                    (24.6637, 93.9063), # Manipur\n",
        "                    (31.1048, 77.1734), # Himachal Pradesh\n",
        "                    (26.1584, 94.5624), # Nagaland\n",
        "                    (28.2180, 94.7278), # Arunachal Pradesh\n",
        "                    (11.7401, 92.6586), # Andaman and Nicobar\n",
        "                    (34.1700, 77.5800), # Ladakh\n",
        "                    (30.7333, 76.7794), # Chandigarh\n",
        "                    (20.1809, 73.0169), # Dadra and Nagar Haveli\n",
        "                    (25.4670, 91.3662), # Meghalaya\n",
        "                    (27.5330, 88.5122), # Sikkim\n",
        "                    (23.1645, 92.9376), # Mizoram\n",
        "                     ]\n",
        "                  \n",
        "ind_state_lat = pd.Series([s[0] for s in state_coordinates], index = india_df.index)\n",
        "ind_state_lng = pd.Series([s[1] for s in state_coordinates], index = india_df.index)\n",
        "\n",
        "india_df['Latitude'] = ind_state_lat\n",
        "india_df['Longitude'] = ind_state_lng\n",
        "\n",
        "# DataFrame for the US\n",
        "us_conf_csv = '/content/COVID-19/csse_covid_19_data/csse_covid_19_time_series/time_series_covid19_confirmed_US.csv'\n",
        "us_conf_df = pd.read_csv(us_conf_csv)\n",
        "us_conf_df = us_conf_df.dropna()\n",
        "grouped_us_conf_df = us_conf_df.groupby(by = ['Combined_Key'], as_index = False).sum()\n",
        "\n",
        "# Function to get total confirmed cases in a country\n",
        "def get_total_confirmed_cases_for_country(country_name):\n",
        "    total_cases_country = conf_df[conf_df['Country/Region'] == country_name].iloc[:, 4:].apply(sum, axis = 0)\n",
        "    total_cases_country.index = pd.to_datetime(total_cases_country.index)\n",
        "    return total_cases_country\n",
        "\n",
        "# Function to get total confirmed cases in the world\n",
        "def get_total_confirmed_global_cases():\n",
        "    global_cases = conf_df.iloc[:, 4:].apply(sum, axis=0)\n",
        "    global_cases.index = pd.to_datetime(global_cases.index)\n",
        "    return global_cases\n",
        "\n",
        "# Function to create a line plot\n",
        "def line_plot(your_name, plot_background, fig_width, fig_height, country_name, colour, linewidth, markertype):\n",
        "    dt_series = None\n",
        "    if country_name != 'global':\n",
        "        dt_series = get_total_confirmed_cases_for_country(country_name)\n",
        "    else:\n",
        "        dt_series = get_total_confirmed_global_cases()\n",
        "    plt.style.use(plot_background)\n",
        "    plt.figure(figsize = (fig_width, fig_height))\n",
        "    plt.title(f'{country_name.upper()}: Total Coronavirus Cases Reported\\nCreated by {your_name.upper()}\\nPowered by WhiteHat Jr', fontsize = 16)\n",
        "    plt.plot(dt_series.index, dt_series, c = colour, lw = linewidth, marker = markertype, markersize = 7)\n",
        "    plt.xticks(rotation = 45)\n",
        "    plt.ylabel(\"Total Cases\")\n",
        "    plt.grid(linestyle='--', c='grey')\n",
        "    plt.show()\n",
        "\n",
        "# Add minimap\n",
        "def add_minimap(map_name):\n",
        "    # Plugin for mini map\n",
        "    minimap = plugins.MiniMap(toggle_display = True)\n",
        "    map_name.add_child(minimap) # Add minimap\n",
        "    plugins.ScrollZoomToggler().add_to(map_name) # Add scroll zoom toggler to map\n",
        "    plugins.Fullscreen(position='topright').add_to(map_name) # Add full screen button to map\n",
        "\n",
        "# Add title to map\n",
        "def add_title(map_name, country, your_name):\n",
        "    title_html = '''\n",
        "        <h2 align=\"center\" style=\"font-size:20px\"><b>Coronavirus Total Confirmed Cases in {}</b></h2>\n",
        "        <h4 align=\"center\" style=\"font-size:16px\"><i>Created by</i> {}</h4>\n",
        "        <h4 align=\"center\" style=\"font-size:16px\"><i>Powered by</i>\n",
        "            <a href=\"https://www.whitehatjr.com/\">WhiteHat Jr</a>\n",
        "        </h4>\n",
        "             '''.format(country, your_name.upper())   \n",
        "    return map_name.get_root().html.add_child(folium.Element(title_html))\n",
        "\n",
        "# Function to create folium maps using for India, US and the world\n",
        "def folium_map_with_circles(your_name, country, map_width, map_height, left_margin, top_margin, map_tile, zoom, circle_color, minimap):\n",
        "    last_col = conf_df.columns[-1]\n",
        "    if country == 'India':\n",
        "        india_map = folium.Map(location = [22.3511148, 78.6677428], \n",
        "                               width = map_width, height = map_height,\n",
        "                               left = f\"{left_margin}%\", top = f\"{top_margin}%\",\n",
        "                               tiles = map_tile, zoom_start = zoom)\n",
        "        \n",
        "        if minimap == True:\n",
        "            add_minimap(india_map)\n",
        "    \n",
        "        add_title(india_map, country, your_name)    \n",
        "        for i in india_df.index:\n",
        "            folium.Circle(radius = float(india_df.loc[i, 'Confirmed']) / 2,\n",
        "                          location = [india_df.loc[i, 'Latitude'], india_df.loc[i, 'Longitude']],\n",
        "                          popup = \"{}\\n {}\\n on {}\".format(india_df.loc[i, 'State'], \n",
        "                                                          india_df.loc[i, 'Confirmed'], \n",
        "                                                          india_df.loc[i, 'Last_Updated_Time']),\n",
        "                          \n",
        "                          color = circle_color,\n",
        "                          fill = True).add_to(india_map)\n",
        "        return india_map\n",
        "\n",
        "    elif country == 'US':\n",
        "        us_map = folium.Map(location = [39.381266, -97.922211], \n",
        "                            width = map_width, height = map_height, \n",
        "                            left = f\"{left_margin}%\", top = f\"{top_margin}%\",\n",
        "                            tiles = map_tile, zoom_start = zoom)\n",
        "        if minimap == True:\n",
        "            add_minimap(us_map)\n",
        "        \n",
        "        add_title(us_map, country, your_name)\n",
        "        for i in grouped_us_conf_df.index:\n",
        "            folium.Circle(location = [grouped_us_conf_df.loc[i, 'Lat'], grouped_us_conf_df.loc[i, 'Long_']], \n",
        "                          radius = int(grouped_us_conf_df.loc[i, last_col]), \n",
        "                          popup = \"{}\\n {}\\n on {}\".format(grouped_us_conf_df.loc[i, 'Combined_Key'],\n",
        "                                                          grouped_us_conf_df.loc[i, last_col],\n",
        "                                                          last_col),\n",
        "                          color = circle_color,\n",
        "                          fill = True).add_to(us_map)\n",
        "        return us_map\n",
        "    \n",
        "    elif country == 'World':\n",
        "        world_map = folium.Map(location = [0, 0], \n",
        "                            width = map_width, height = map_height, \n",
        "                            left = f\"{left_margin}%\", top = f\"{top_margin}%\",\n",
        "                            tiles = map_tile, zoom_start = zoom)\n",
        "        if minimap == True:\n",
        "            add_minimap(world_map)\n",
        "        \n",
        "        add_title(world_map, country, your_name)\n",
        "        for i in grouped_conf_df.index:\n",
        "            folium.Circle(location = [grouped_conf_df.loc[i, 'Lat'], grouped_conf_df.loc[i, 'Long']], \n",
        "                          radius = int(grouped_conf_df.loc[i, last_col]) / 2, \n",
        "                          popup = \"{}\\n {}\\n on {}\".format(grouped_conf_df.loc[i, 'Country/Region'],\n",
        "                                                          grouped_conf_df.loc[i, last_col], \n",
        "                                                          last_col),\n",
        "                          color = circle_color, \n",
        "                          fill = True).add_to(world_map)\n",
        "        return world_map\n",
        "    else:\n",
        "        print(\"\\nWrong input! Enter either India, US or World.\\n\")\n",
        "\n",
        "# Total confirmed cases in the descending order.\n",
        "grouped_conf_df = conf_df.groupby(by='Country/Region', as_index=False).sum()\n",
        "desc_grp_conf_df = grouped_conf_df.sort_values(by=conf_df.columns[-1], ascending=False)\n",
        "\n",
        "# Function to create a bar plot displaying the top 10 countries having the most number of coronavirus confirmed cases.\n",
        "def bar_plot(your_name, num_countries, width, height):\n",
        "    last_col = conf_df.columns[-1]\n",
        "    latest_date = datetime.datetime.strptime(last_col, '%m/%d/%y').strftime('%B %d, %Y') # Modify the latest date in the 'Month DD, YYYY' format.\n",
        "    plt.figure(figsize = (width, height))\n",
        "    plt.title(f'Top {num_countries} Countries with Highest COVID-19 Confirmed Cases\\nCreated by {your_name.upper()}\\nPowered by WhiteHat Jr', \n",
        "              fontsize = 16)\n",
        "    sns.barplot(desc_grp_conf_df[last_col].head(num_countries), desc_grp_conf_df['Country/Region'].head(num_countries), orient = 'h')\n",
        "    plt.xlabel(f'Total Confirmed Cases (in millions) as of {latest_date}')\n",
        "    plt.show()\n",
        "\n",
        "# Non-cumulative Confirmed Cases.\n",
        "non_cum_conf_df = desc_grp_conf_df.iloc[:, :4]\n",
        "for i in range(len(desc_grp_conf_df.columns[3:]) - 1):\n",
        "    series = desc_grp_conf_df[desc_grp_conf_df.columns[3 + (i + 1) ]] - desc_grp_conf_df[desc_grp_conf_df.columns[3 + i]]\n",
        "    non_cum_conf_df[desc_grp_conf_df.columns[3 + (i + 1)]] = series\n",
        "\n",
        "# Function to get the total non-cumulative confirmed cases in a country.\n",
        "def get_total_daily_confirmed_cases_for_country(country_name):\n",
        "    total_daily_cases = non_cum_conf_df[non_cum_conf_df['Country/Region'] == country_name].iloc[:, 4:].apply(sum, axis = 0)\n",
        "    total_daily_cases.index = pd.to_datetime(total_daily_cases.index)\n",
        "    return total_daily_cases\n",
        "\n",
        "# Line plot for the daily (non-cumulative) confirmed cases in various countries.\n",
        "def daily_cases_line_plot(your_name, num_countries, width, height):\n",
        "    plt.figure(figsize=(width, height))\n",
        "    plt.title(f'Non-Cumulative COVID-19 Confirmed Cases\\nCreated by {your_name.upper()}\\nPowered by WhiteHat Jr', fontsize = 16)\n",
        "    for region in non_cum_conf_df.iloc[:num_countries, :]['Country/Region']:\n",
        "        total_conf_cases = get_total_daily_confirmed_cases_for_country(region)\n",
        "        plt.plot(total_conf_cases.index[53:], total_conf_cases[53:], lw=2.5, label=region)\n",
        "    plt.xticks(rotation=45)\n",
        "    plt.legend()\n",
        "    plt.grid('major', linestyle='--', c='grey')\n",
        "    plt.show()"
      ],
      "execution_count": 1,
      "outputs": [
        {
          "output_type": "stream",
          "text": [
            "Cloning into 'COVID-19'...\n",
            "remote: Enumerating objects: 16, done.\u001b[K\n",
            "remote: Counting objects: 100% (16/16), done.\u001b[K\n",
            "remote: Compressing objects: 100% (12/12), done.\u001b[K\n",
            "remote: Total 49137 (delta 4), reused 10 (delta 4), pack-reused 49121\u001b[K\n",
            "Receiving objects: 100% (49137/49137), 384.22 MiB | 29.96 MiB/s, done.\n",
            "Resolving deltas: 100% (30719/30719), done.\n",
            "Checking out files: 100% (592/592), done.\n",
            "Collecting geocoder\n",
            "\u001b[?25l  Downloading https://files.pythonhosted.org/packages/4f/6b/13166c909ad2f2d76b929a4227c952630ebaf0d729f6317eb09cbceccbab/geocoder-1.38.1-py2.py3-none-any.whl (98kB)\n",
            "\u001b[K     |████████████████████████████████| 102kB 2.3MB/s \n",
            "\u001b[?25hRequirement already satisfied: future in /usr/local/lib/python3.6/dist-packages (from geocoder) (0.16.0)\n",
            "Requirement already satisfied: click in /usr/local/lib/python3.6/dist-packages (from geocoder) (7.1.2)\n",
            "Collecting ratelim\n",
            "  Downloading https://files.pythonhosted.org/packages/f2/98/7e6d147fd16a10a5f821db6e25f192265d6ecca3d82957a4fdd592cad49c/ratelim-0.1.6-py2.py3-none-any.whl\n",
            "Requirement already satisfied: six in /usr/local/lib/python3.6/dist-packages (from geocoder) (1.15.0)\n",
            "Requirement already satisfied: requests in /usr/local/lib/python3.6/dist-packages (from geocoder) (2.23.0)\n",
            "Requirement already satisfied: decorator in /usr/local/lib/python3.6/dist-packages (from ratelim->geocoder) (4.4.2)\n",
            "Requirement already satisfied: chardet<4,>=3.0.2 in /usr/local/lib/python3.6/dist-packages (from requests->geocoder) (3.0.4)\n",
            "Requirement already satisfied: urllib3!=1.25.0,!=1.25.1,<1.26,>=1.21.1 in /usr/local/lib/python3.6/dist-packages (from requests->geocoder) (1.24.3)\n",
            "Requirement already satisfied: certifi>=2017.4.17 in /usr/local/lib/python3.6/dist-packages (from requests->geocoder) (2020.6.20)\n",
            "Requirement already satisfied: idna<3,>=2.5 in /usr/local/lib/python3.6/dist-packages (from requests->geocoder) (2.10)\n",
            "Installing collected packages: ratelim, geocoder\n",
            "Successfully installed geocoder-1.38.1 ratelim-0.1.6\n"
          ],
          "name": "stdout"
        },
        {
          "output_type": "stream",
          "text": [
            "/usr/local/lib/python3.6/dist-packages/statsmodels/tools/_testing.py:19: FutureWarning: pandas.util.testing is deprecated. Use the functions in the public API at pandas.testing instead.\n",
            "  import pandas.util.testing as tm\n"
          ],
          "name": "stderr"
        }
      ]
    },
    {
      "cell_type": "markdown",
      "metadata": {
        "id": "gg0S_PoPIWNa",
        "colab_type": "text"
      },
      "source": [
        "---"
      ]
    },
    {
      "cell_type": "markdown",
      "metadata": {
        "id": "pbKvEaCufa-p",
        "colab_type": "text"
      },
      "source": [
        "#### Activity 2: Line Plot^\n",
        "\n",
        "Let's create a line plot to visualise the total number of confirmed cases in India till yesterday. For the line plot, the dataset that we have on coronavirus is maintained at Johns Hopkins University which gets according to the US time. Hence, we have data updated till yesterday. \n",
        "\n",
        "To view this dataset, write `conf_df[conf_df['Country/Region'] == 'India']` in the code cell below."
      ]
    },
    {
      "cell_type": "code",
      "metadata": {
        "id": "qpXGILXhk64L",
        "colab_type": "code",
        "colab": {
          "base_uri": "https://localhost:8080/",
          "height": 126
        },
        "outputId": "4f7d74c6-56ac-46ff-a5ac-3562c7a0bccf"
      },
      "source": [
        "# Student Action: Write conf_df[conf_df['Country/Region'] == 'India'] to view the dataset for India that will be used to create a line plot.\n",
        "conf_df[conf_df['Country/Region'] == 'India']"
      ],
      "execution_count": 2,
      "outputs": [
        {
          "output_type": "execute_result",
          "data": {
            "text/html": [
              "<div>\n",
              "<style scoped>\n",
              "    .dataframe tbody tr th:only-of-type {\n",
              "        vertical-align: middle;\n",
              "    }\n",
              "\n",
              "    .dataframe tbody tr th {\n",
              "        vertical-align: top;\n",
              "    }\n",
              "\n",
              "    .dataframe thead th {\n",
              "        text-align: right;\n",
              "    }\n",
              "</style>\n",
              "<table border=\"1\" class=\"dataframe\">\n",
              "  <thead>\n",
              "    <tr style=\"text-align: right;\">\n",
              "      <th></th>\n",
              "      <th>Province/State</th>\n",
              "      <th>Country/Region</th>\n",
              "      <th>Lat</th>\n",
              "      <th>Long</th>\n",
              "      <th>1/22/20</th>\n",
              "      <th>1/23/20</th>\n",
              "      <th>1/24/20</th>\n",
              "      <th>1/25/20</th>\n",
              "      <th>1/26/20</th>\n",
              "      <th>1/27/20</th>\n",
              "      <th>1/28/20</th>\n",
              "      <th>1/29/20</th>\n",
              "      <th>1/30/20</th>\n",
              "      <th>1/31/20</th>\n",
              "      <th>2/1/20</th>\n",
              "      <th>2/2/20</th>\n",
              "      <th>2/3/20</th>\n",
              "      <th>2/4/20</th>\n",
              "      <th>2/5/20</th>\n",
              "      <th>2/6/20</th>\n",
              "      <th>2/7/20</th>\n",
              "      <th>2/8/20</th>\n",
              "      <th>2/9/20</th>\n",
              "      <th>2/10/20</th>\n",
              "      <th>2/11/20</th>\n",
              "      <th>2/12/20</th>\n",
              "      <th>2/13/20</th>\n",
              "      <th>2/14/20</th>\n",
              "      <th>2/15/20</th>\n",
              "      <th>2/16/20</th>\n",
              "      <th>2/17/20</th>\n",
              "      <th>2/18/20</th>\n",
              "      <th>2/19/20</th>\n",
              "      <th>2/20/20</th>\n",
              "      <th>2/21/20</th>\n",
              "      <th>2/22/20</th>\n",
              "      <th>2/23/20</th>\n",
              "      <th>2/24/20</th>\n",
              "      <th>2/25/20</th>\n",
              "      <th>2/26/20</th>\n",
              "      <th>...</th>\n",
              "      <th>7/22/20</th>\n",
              "      <th>7/23/20</th>\n",
              "      <th>7/24/20</th>\n",
              "      <th>7/25/20</th>\n",
              "      <th>7/26/20</th>\n",
              "      <th>7/27/20</th>\n",
              "      <th>7/28/20</th>\n",
              "      <th>7/29/20</th>\n",
              "      <th>7/30/20</th>\n",
              "      <th>7/31/20</th>\n",
              "      <th>8/1/20</th>\n",
              "      <th>8/2/20</th>\n",
              "      <th>8/3/20</th>\n",
              "      <th>8/4/20</th>\n",
              "      <th>8/5/20</th>\n",
              "      <th>8/6/20</th>\n",
              "      <th>8/7/20</th>\n",
              "      <th>8/8/20</th>\n",
              "      <th>8/9/20</th>\n",
              "      <th>8/10/20</th>\n",
              "      <th>8/11/20</th>\n",
              "      <th>8/12/20</th>\n",
              "      <th>8/13/20</th>\n",
              "      <th>8/14/20</th>\n",
              "      <th>8/15/20</th>\n",
              "      <th>8/16/20</th>\n",
              "      <th>8/17/20</th>\n",
              "      <th>8/18/20</th>\n",
              "      <th>8/19/20</th>\n",
              "      <th>8/20/20</th>\n",
              "      <th>8/21/20</th>\n",
              "      <th>8/22/20</th>\n",
              "      <th>8/23/20</th>\n",
              "      <th>8/24/20</th>\n",
              "      <th>8/25/20</th>\n",
              "      <th>8/26/20</th>\n",
              "      <th>8/27/20</th>\n",
              "      <th>8/28/20</th>\n",
              "      <th>8/29/20</th>\n",
              "      <th>8/30/20</th>\n",
              "    </tr>\n",
              "  </thead>\n",
              "  <tbody>\n",
              "    <tr>\n",
              "      <th>143</th>\n",
              "      <td>NaN</td>\n",
              "      <td>India</td>\n",
              "      <td>20.593684</td>\n",
              "      <td>78.96288</td>\n",
              "      <td>0</td>\n",
              "      <td>0</td>\n",
              "      <td>0</td>\n",
              "      <td>0</td>\n",
              "      <td>0</td>\n",
              "      <td>0</td>\n",
              "      <td>0</td>\n",
              "      <td>0</td>\n",
              "      <td>1</td>\n",
              "      <td>1</td>\n",
              "      <td>1</td>\n",
              "      <td>2</td>\n",
              "      <td>3</td>\n",
              "      <td>3</td>\n",
              "      <td>3</td>\n",
              "      <td>3</td>\n",
              "      <td>3</td>\n",
              "      <td>3</td>\n",
              "      <td>3</td>\n",
              "      <td>3</td>\n",
              "      <td>3</td>\n",
              "      <td>3</td>\n",
              "      <td>3</td>\n",
              "      <td>3</td>\n",
              "      <td>3</td>\n",
              "      <td>3</td>\n",
              "      <td>3</td>\n",
              "      <td>3</td>\n",
              "      <td>3</td>\n",
              "      <td>3</td>\n",
              "      <td>3</td>\n",
              "      <td>3</td>\n",
              "      <td>3</td>\n",
              "      <td>3</td>\n",
              "      <td>3</td>\n",
              "      <td>3</td>\n",
              "      <td>...</td>\n",
              "      <td>1238798</td>\n",
              "      <td>1288108</td>\n",
              "      <td>1337024</td>\n",
              "      <td>1385635</td>\n",
              "      <td>1435616</td>\n",
              "      <td>1480073</td>\n",
              "      <td>1531669</td>\n",
              "      <td>1581963</td>\n",
              "      <td>1634746</td>\n",
              "      <td>1695988</td>\n",
              "      <td>1750723</td>\n",
              "      <td>1803695</td>\n",
              "      <td>1855745</td>\n",
              "      <td>1908254</td>\n",
              "      <td>1964536</td>\n",
              "      <td>2027074</td>\n",
              "      <td>2088611</td>\n",
              "      <td>2153010</td>\n",
              "      <td>2215074</td>\n",
              "      <td>2268675</td>\n",
              "      <td>2329638</td>\n",
              "      <td>2396637</td>\n",
              "      <td>2461190</td>\n",
              "      <td>2525922</td>\n",
              "      <td>2589952</td>\n",
              "      <td>2647663</td>\n",
              "      <td>2702681</td>\n",
              "      <td>2767253</td>\n",
              "      <td>2836925</td>\n",
              "      <td>2905825</td>\n",
              "      <td>2975701</td>\n",
              "      <td>3044940</td>\n",
              "      <td>3106348</td>\n",
              "      <td>3167323</td>\n",
              "      <td>3224547</td>\n",
              "      <td>3310234</td>\n",
              "      <td>3387500</td>\n",
              "      <td>3463972</td>\n",
              "      <td>3542733</td>\n",
              "      <td>3621245</td>\n",
              "    </tr>\n",
              "  </tbody>\n",
              "</table>\n",
              "<p>1 rows × 226 columns</p>\n",
              "</div>"
            ],
            "text/plain": [
              "    Province/State Country/Region        Lat  ...  8/28/20  8/29/20  8/30/20\n",
              "143            NaN          India  20.593684  ...  3463972  3542733  3621245\n",
              "\n",
              "[1 rows x 226 columns]"
            ]
          },
          "metadata": {
            "tags": []
          },
          "execution_count": 2
        }
      ]
    },
    {
      "cell_type": "markdown",
      "metadata": {
        "id": "uObwYzKCHHiK",
        "colab_type": "text"
      },
      "source": [
        "So, in this dataset, we have data for the total confirmed cases in India starting from January 22, 2020. The date given here is in the `MM/DD/YY` format where \n",
        "\n",
        "- `MM` stands for month\n",
        "\n",
        "- `DD` stands for day\n",
        "\n",
        "- `YY` stands for year\n",
        "\n",
        "Now, let's create a line plot. To create a line plot, you need to use the `line_plot()` function which takes the following inputs:\n",
        "\n",
        "- Name of the person who is creating the line plot which should be a text value enclosed within single-quotes (`''`) or double-quotes (`\"\"`).\n",
        "\n",
        "- The background style of the line plot which should be a text value enclosed within single-quotes (`''`) or double-quotes (`\"\"`).. Here is the list of most commonly used background styles:\n",
        "\n",
        "  1. `'dark_background'` (most preferred)\n",
        "\n",
        "  2. `'ggplot'`\n",
        "\n",
        "  3. `'seaborn'`\n",
        "\n",
        "  4. `'fivethirtyeight'`\n",
        "\n",
        "  and many more.\n",
        "\n",
        "- Width of the line plot (numeric value).\n",
        "\n",
        "- Height of the line plot (numeric value).\n",
        "\n",
        "- Name of the country which should be a text value enclosed within single-quotes (`''`) or double-quotes (`\"\"`).\n",
        "\n",
        "- Colour of the lines which should be a text value enclosed within single-quotes (`''`) or double-quotes (`\"\"`). Here's the list of most commonly used colours:\n",
        "\n",
        "  1. `'red'`\n",
        "  \n",
        "  2. `'cyan'` \n",
        "  \n",
        "  3. `'magenta'`\n",
        "\n",
        "  4. `'yellow'`\n",
        "\n",
        "  5. `'green'`\n",
        "\n",
        "- The width of the line (numeric value)\n",
        "\n",
        "- The marker style on the line plot which should be a text value enclosed within single-quotes (`''`) or double-quotes (`\"\"`). Here is the list of the most commonly used marker styles:\n",
        "\n",
        "  1. `'o'` for a circular marker\n",
        "\n",
        "  2. `'*'` for a starred marker\n",
        "\n",
        "  3. `'^'` for a upper triangular marker\n"
      ]
    },
    {
      "cell_type": "code",
      "metadata": {
        "id": "G1HArsXcHNXK",
        "colab_type": "code",
        "colab": {
          "base_uri": "https://localhost:8080/",
          "height": 671
        },
        "outputId": "dc2467c1-a2ee-4e94-e288-2eedf6a5de80"
      },
      "source": [
        "# Student Action: Create a line plot for the total confirmed cases in India using the 'line_plot()' function.\n",
        "line_plot(your_name = 'India', plot_background = 'dark_background', fig_width = 10, fig_height = 10, country_name = 'India', colour = 'red', linewidth = 2, markertype = 'o')"
      ],
      "execution_count": 7,
      "outputs": [
        {
          "output_type": "display_data",
          "data": {
            "image/png": "[encoded data removed]",
            "text/plain": [
              "<Figure size 720x720 with 1 Axes>"
            ]
          },
          "metadata": {
            "tags": []
          }
        }
      ]
    },
    {
      "cell_type": "markdown",
      "metadata": {
        "id": "2uQJGNR1lJBz",
        "colab_type": "text"
      },
      "source": [
        "**Note:** The `line_plot()` function is NOT a standard Python function. It is a user-defined function created at WhiteHat Jr using Python to simplify the line plot creation process. You will learn to create your own user-defined function in the subsequent classes in this course."
      ]
    },
    {
      "cell_type": "markdown",
      "metadata": {
        "id": "Rt79o-Ork9BO",
        "colab_type": "text"
      },
      "source": [
        "---"
      ]
    },
    {
      "cell_type": "markdown",
      "metadata": {
        "id": "bb1A1XTZDyxv",
        "colab_type": "text"
      },
      "source": [
        "#### Activity 3: Map^^\n",
        "\n",
        "Let's create a map for India. For this, we are going to use a dataset showing state-wise data for India. To view the first five rows for the total confirmed cases in India, call the `head()` function on the `india_df` variable which stores the data."
      ]
    },
    {
      "cell_type": "code",
      "metadata": {
        "id": "zcbuqGnITevO",
        "colab_type": "code",
        "colab": {
          "base_uri": "https://localhost:8080/",
          "height": 261
        },
        "outputId": "b1daaa88-1944-4f9c-c169-2440476d4930"
      },
      "source": [
        "# Student Action: List the first five rows of the dataset containing the total number of confirmed cases in India. \n",
        "india_df.head()"
      ],
      "execution_count": 13,
      "outputs": [
        {
          "output_type": "execute_result",
          "data": {
            "text/html": [
              "<div>\n",
              "<style scoped>\n",
              "    .dataframe tbody tr th:only-of-type {\n",
              "        vertical-align: middle;\n",
              "    }\n",
              "\n",
              "    .dataframe tbody tr th {\n",
              "        vertical-align: top;\n",
              "    }\n",
              "\n",
              "    .dataframe thead th {\n",
              "        text-align: right;\n",
              "    }\n",
              "</style>\n",
              "<table border=\"1\" class=\"dataframe\">\n",
              "  <thead>\n",
              "    <tr style=\"text-align: right;\">\n",
              "      <th></th>\n",
              "      <th>State</th>\n",
              "      <th>Confirmed</th>\n",
              "      <th>Recovered</th>\n",
              "      <th>Deaths</th>\n",
              "      <th>Active</th>\n",
              "      <th>Last_Updated_Time</th>\n",
              "      <th>Migrated_Other</th>\n",
              "      <th>State_code</th>\n",
              "      <th>Delta_Confirmed</th>\n",
              "      <th>Delta_Recovered</th>\n",
              "      <th>Delta_Deaths</th>\n",
              "      <th>State_Notes</th>\n",
              "      <th>Latitude</th>\n",
              "      <th>Longitude</th>\n",
              "    </tr>\n",
              "  </thead>\n",
              "  <tbody>\n",
              "    <tr>\n",
              "      <th>1</th>\n",
              "      <td>Maharashtra</td>\n",
              "      <td>792541</td>\n",
              "      <td>573559</td>\n",
              "      <td>24583</td>\n",
              "      <td>194056</td>\n",
              "      <td>31/08/2020 21:39:31</td>\n",
              "      <td>343</td>\n",
              "      <td>MH</td>\n",
              "      <td>11852</td>\n",
              "      <td>11158</td>\n",
              "      <td>184</td>\n",
              "      <td>343 cases are marked as non-covid deaths in MH...</td>\n",
              "      <td>19.7515</td>\n",
              "      <td>75.7139</td>\n",
              "    </tr>\n",
              "    <tr>\n",
              "      <th>2</th>\n",
              "      <td>Tamil Nadu</td>\n",
              "      <td>428041</td>\n",
              "      <td>368141</td>\n",
              "      <td>7323</td>\n",
              "      <td>52577</td>\n",
              "      <td>31/08/2020 20:41:30</td>\n",
              "      <td>0</td>\n",
              "      <td>TN</td>\n",
              "      <td>5956</td>\n",
              "      <td>6008</td>\n",
              "      <td>92</td>\n",
              "      <td>[July 22]: 444 backdated deceased entries adde...</td>\n",
              "      <td>11.1271</td>\n",
              "      <td>78.6569</td>\n",
              "    </tr>\n",
              "    <tr>\n",
              "      <th>3</th>\n",
              "      <td>Andhra Pradesh</td>\n",
              "      <td>434771</td>\n",
              "      <td>330526</td>\n",
              "      <td>3969</td>\n",
              "      <td>100276</td>\n",
              "      <td>31/08/2020 18:18:28</td>\n",
              "      <td>0</td>\n",
              "      <td>AP</td>\n",
              "      <td>10004</td>\n",
              "      <td>8772</td>\n",
              "      <td>85</td>\n",
              "      <td>Total includes patients from other states and ...</td>\n",
              "      <td>15.9129</td>\n",
              "      <td>79.7400</td>\n",
              "    </tr>\n",
              "    <tr>\n",
              "      <th>4</th>\n",
              "      <td>Karnataka</td>\n",
              "      <td>342423</td>\n",
              "      <td>249467</td>\n",
              "      <td>5702</td>\n",
              "      <td>87235</td>\n",
              "      <td>31/08/2020 20:53:28</td>\n",
              "      <td>19</td>\n",
              "      <td>KA</td>\n",
              "      <td>6495</td>\n",
              "      <td>7238</td>\n",
              "      <td>113</td>\n",
              "      <td>NaN</td>\n",
              "      <td>15.3170</td>\n",
              "      <td>75.7139</td>\n",
              "    </tr>\n",
              "    <tr>\n",
              "      <th>5</th>\n",
              "      <td>Delhi</td>\n",
              "      <td>174748</td>\n",
              "      <td>155678</td>\n",
              "      <td>4444</td>\n",
              "      <td>14626</td>\n",
              "      <td>31/08/2020 19:21:24</td>\n",
              "      <td>0</td>\n",
              "      <td>DL</td>\n",
              "      <td>1358</td>\n",
              "      <td>1507</td>\n",
              "      <td>18</td>\n",
              "      <td>[July 14]: Value for the total tests conducted...</td>\n",
              "      <td>28.7041</td>\n",
              "      <td>77.1025</td>\n",
              "    </tr>\n",
              "  </tbody>\n",
              "</table>\n",
              "</div>"
            ],
            "text/plain": [
              "            State  Confirmed  ...  Latitude  Longitude\n",
              "1     Maharashtra     792541  ...   19.7515    75.7139\n",
              "2      Tamil Nadu     428041  ...   11.1271    78.6569\n",
              "3  Andhra Pradesh     434771  ...   15.9129    79.7400\n",
              "4       Karnataka     342423  ...   15.3170    75.7139\n",
              "5           Delhi     174748  ...   28.7041    77.1025\n",
              "\n",
              "[5 rows x 14 columns]"
            ]
          },
          "metadata": {
            "tags": []
          },
          "execution_count": 13
        }
      ]
    },
    {
      "cell_type": "markdown",
      "metadata": {
        "id": "eEfwX2AmVl2u",
        "colab_type": "text"
      },
      "source": [
        "Let's now create a map for India to show the state-wise total confirmed cases of coronavirus. Using the latitude and longitude values (which are numeric values with decimal), we can create circular markers on a map. For this, you need to use the `folium_map_with_circles()` function which takes the following inputs:\n",
        "\n",
        "- Name of the person who is creating the map which should be a text value enclosed within single-quotes (`''`) or double-quotes (`\"\"`).\n",
        "\n",
        "- Name of the country for which a map needs to be created. It should be a text value enclosed within single-quotes (`''`) or double-quotes (`\"\"`). For the map only three values are supported:\n",
        "\n",
        "  1. `'India'`\n",
        "\n",
        "  2. `'US'`\n",
        "\n",
        "  3. `'World'`\n",
        "\n",
        "- Width of the map (numeric value).\n",
        "\n",
        "- Height of the map (numeric value).\n",
        "\n",
        "- Left margin for the map (numeric value).\n",
        "\n",
        "- Top margin for the map (numeric value).\n",
        "\n",
        "- The background style of the line plot which should be a text value enclosed within single-quotes (`''`) or double-quotes (`\"\"`). Here is the list of most commonly used background styles:\n",
        "\n",
        "  1. `'OpenStreetMap'`\n",
        "\n",
        "  2. `'Stamen Terrain'`\n",
        "\n",
        "  3. `'Stamen Toner'`\n",
        "\n",
        "- Initial zoom in value (a numeric value)\n",
        "\n",
        "- Colour of the circles on the map should be a text value enclosed within single-quotes (`''`) or double-quotes (`\"\"`). Here's the list of most commonly used colours:\n",
        "\n",
        "  1. `'red'`\n",
        "  \n",
        "  2. `'blue'` \n",
        "  \n",
        "  3. `'magenta'`\n",
        "\n",
        "  4. `'yellow'`\n",
        "\n",
        "  5. `'green'`\n",
        "\n",
        "- Whether you want the map to have a minimap or not; `True` for **yes** and `False` for **no**.\n"
      ]
    },
    {
      "cell_type": "code",
      "metadata": {
        "id": "JWAxL5giKQuB",
        "colab_type": "code",
        "colab": {}
      },
      "source": [
        "# Student Action: Create a map for India to show the state-wise total confirmed cases of coronavirus.\n",
        "map = folium_map_with_circles('ASDF', 'India', 1000,1000,0,0, 'OpenStreetMap', 5, 'red', True)"
      ],
      "execution_count": 20,
      "outputs": []
    },
    {
      "cell_type": "markdown",
      "metadata": {
        "id": "Pcb7pRe5eeJJ",
        "colab_type": "text"
      },
      "source": [
        "**Note:** The `folium_map_with_circles()` function is NOT a standard Python function. It is a user-defined function created at WhiteHat Jr using Python to simplify the map creation process. You will learn to create your own user-defined function in the subsequent classes in this course.\n",
        "\n",
        "Let's export the above map as an HTML file. You can make it a web page like a website and share it with your parents or friends. To do this, you need to use the `save()` function which is a standard Python function. The input to this function should be a path (or location) of the directory where you want to store the HTML file. Also, name the file as `index.html`. This is very important."
      ]
    },
    {
      "cell_type": "code",
      "metadata": {
        "id": "0Y1VFs1vWcL2",
        "colab_type": "code",
        "colab": {
          "base_uri": "https://localhost:8080/",
          "height": 969
        },
        "outputId": "6aea1aa4-ddf7-49b3-d120-07f030728ebc"
      },
      "source": [
        "# Student Action: Export the world map as an HTML file. \n",
        "map.save('index.html')\n",
        "map"
      ],
      "execution_count": 22,
      "outputs": [
        {
          "output_type": "execute_result",
          "data": {
            "text/html": [
              "<div style=\"width:100%;\"><div style=\"position:relative;width:100%;height:0;padding-bottom:60%;\"><span style=\"color:#565656\">Make this Notebook Trusted to load map: File -> Trust Notebook</span><iframe src=\"about:blank\" style=\"position:absolute;width:100%;height:100%;left:0;top:0;border:none !important;\" data-html=PCFET0NUWVBFIGh0bWw+CjxoZWFkPiAgICAKICAgIDxtZXRhIGh0dHAtZXF1aXY9ImNvbnRlbnQtdHlwZSIgY29udGVudD0idGV4dC9odG1sOyBjaGFyc2V0PVVURi04IiAvPgogICAgPHNjcmlwdD5MX1BSRUZFUl9DQU5WQVM9ZmFsc2U7IExfTk9fVE9VQ0g9ZmFsc2U7IExfRElTQUJMRV8zRD1mYWxzZTs8L3NjcmlwdD4KICAgIDxzY3JpcHQgc3JjPSJodHRwczovL2Nkbi5qc2RlbGl2ci5uZXQvbnBtL2xlYWZsZXRAMS40LjAvZGlzdC9sZWFmbGV0LmpzIj48L3NjcmlwdD4KICAgIDxzY3JpcHQgc3JjPSJodHRwczovL2NvZGUuanF1ZXJ5LmNvbS9qcXVlcnktMS4xMi40Lm1pbi5qcyI+PC9zY3JpcHQ+CiAgICA8c2NyaXB0IHNyYz0iaHR0cHM6Ly9tYXhjZG4uYm9vdHN0cmFwY2RuLmNvbS9ib290c3RyYXAvMy4yLjAvanMvYm9vdHN0cmFwLm1pbi5qcyI+PC9zY3JpcHQ+CiAgICA8c2NyaXB0IHNyYz0iaHR0cHM6Ly9jZG5qcy5jbG91ZGZsYXJlLmNvbS9hamF4L2xpYnMvTGVhZmxldC5hd2Vzb21lLW1hcmtlcnMvMi4wLjIvbGVhZmxldC5hd2Vzb21lLW1hcmtlcnMuanMiPjwvc2NyaXB0PgogICAgPGxpbmsgcmVsPSJzdHlsZXNoZWV0IiBocmVmPSJodHRwczovL2Nkbi5qc2RlbGl2ci5uZXQvbnBtL2xlYWZsZXRAMS40LjAvZGlzdC9sZWFmbGV0LmNzcyIvPgogICAgPGxpbmsgcmVsPSJzdHlsZXNoZWV0IiBocmVmPSJodHRwczovL21heGNkbi5ib290c3RyYXBjZG4uY29tL2Jvb3RzdHJhcC8zLjIuMC9jc3MvYm9vdHN0cmFwLm1pbi5jc3MiLz4KICAgIDxsaW5rIHJlbD0ic3R5bGVzaGVldCIgaHJlZj0iaHR0cHM6Ly9tYXhjZG4uYm9vdHN0cmFwY2RuLmNvbS9ib290c3RyYXAvMy4yLjAvY3NzL2Jvb3RzdHJhcC10aGVtZS5taW4uY3NzIi8+CiAgICA8bGluayByZWw9InN0eWxlc2hlZXQiIGhyZWY9Imh0dHBzOi8vbWF4Y2RuLmJvb3RzdHJhcGNkbi5jb20vZm9udC1hd2Vzb21lLzQuNi4zL2Nzcy9mb250LWF3ZXNvbWUubWluLmNzcyIvPgogICAgPGxpbmsgcmVsPSJzdHlsZXNoZWV0IiBocmVmPSJodHRwczovL2NkbmpzLmNsb3VkZmxhcmUuY29tL2FqYXgvbGlicy9MZWFmbGV0LmF3ZXNvbWUtbWFya2Vycy8yLjAuMi9sZWFmbGV0LmF3ZXNvbWUtbWFya2Vycy5jc3MiLz4KICAgIDxsaW5rIHJlbD0ic3R5bGVzaGVldCIgaHJlZj0iaHR0cHM6Ly9yYXdjZG4uZ2l0aGFjay5jb20vcHl0aG9uLXZpc3VhbGl6YXRpb24vZm9saXVtL21hc3Rlci9mb2xpdW0vdGVtcGxhdGVzL2xlYWZsZXQuYXdlc29tZS5yb3RhdGUuY3NzIi8+CiAgICA8c3R5bGU+aHRtbCwgYm9keSB7d2lkdGg6IDEwMCU7aGVpZ2h0OiAxMDAlO21hcmdpbjogMDtwYWRkaW5nOiAwO308L3N0eWxlPgogICAgPHN0eWxlPiNtYXAge3Bvc2l0aW9uOmFic29sdXRlO3RvcDowO2JvdHRvbTowO3JpZ2h0OjA7bGVmdDowO308L3N0eWxlPgogICAgCiAgICA8bWV0YSBuYW1lPSJ2aWV3cG9ydCIgY29udGVudD0id2lkdGg9ZGV2aWNlLXdpZHRoLAogICAgICAgIGluaXRpYWwtc2NhbGU9MS4wLCBtYXhpbXVtLXNjYWxlPTEuMCwgdXNlci1zY2FsYWJsZT1ubyIgLz4KICAgIDxzdHlsZT4jbWFwX2Y4MTkyOGYyNzRkMjQ5NmY5N2EzMzJhZWE4MTM1MTM1IHsKICAgICAgICBwb3NpdGlvbjogcmVsYXRpdmU7CiAgICAgICAgd2lkdGg6IDEwMDAuMHB4OwogICAgICAgIGhlaWdodDogMTAwMC4wcHg7CiAgICAgICAgbGVmdDogMC4wJTsKICAgICAgICB0b3A6IDAuMCU7CiAgICAgICAgfQogICAgPC9zdHlsZT4KICAgIDxzY3JpcHQgc3JjPSJodHRwczovL2NkbmpzLmNsb3VkZmxhcmUuY29tL2FqYXgvbGlicy9sZWFmbGV0LW1pbmltYXAvMy42LjEvQ29udHJvbC5NaW5pTWFwLmpzIj48L3NjcmlwdD4KICAgIDxsaW5rIHJlbD0ic3R5bGVzaGVldCIgaHJlZj0iaHR0cHM6Ly9jZG5qcy5jbG91ZGZsYXJlLmNvbS9hamF4L2xpYnMvbGVhZmxldC1taW5pbWFwLzMuNi4xL0NvbnRyb2wuTWluaU1hcC5jc3MiLz4KICAgIAogICAgICAgICAgICAgICAgPHN0eWxlPgogICAgICAgICAgICAgICAgICAgICNzY3JvbGxfem9vbV90b2dnbGVyXzJmYWFjNDY1OTIzMzQzMDlhZDcwZjg2OGE2NDlhMGFlIHsKICAgICAgICAgICAgICAgICAgICAgICAgcG9zaXRpb246YWJzb2x1dGU7CiAgICAgICAgICAgICAgICAgICAgICAgIHdpZHRoOjM1cHg7CiAgICAgICAgICAgICAgICAgICAgICAgIGJvdHRvbToxMHB4OwogICAgICAgICAgICAgICAgICAgICAgICBoZWlnaHQ6MzVweDsKICAgICAgICAgICAgICAgICAgICAgICAgbGVmdDoxMHB4OwogICAgICAgICAgICAgICAgICAgICAgICBiYWNrZ3JvdW5kLWNvbG9yOiNmZmY7CiAgICAgICAgICAgICAgICAgICAgICAgIHRleHQtYWxpZ246Y2VudGVyOwogICAgICAgICAgICAgICAgICAgICAgICBsaW5lLWhlaWdodDozNXB4OwogICAgICAgICAgICAgICAgICAgICAgICB2ZXJ0aWNhbC1hbGlnbjogbWlkZGxlOwogICAgICAgICAgICAgICAgICAgICAgICB9CiAgICAgICAgICAgICAgICA8L3N0eWxlPgogICAgICAgICAgICAKICAgIDxzY3JpcHQgc3JjPSJodHRwczovL2NkbmpzLmNsb3VkZmxhcmUuY29tL2FqYXgvbGlicy9sZWFmbGV0LmZ1bGxzY3JlZW4vMS40LjIvQ29udHJvbC5GdWxsU2NyZWVuLm1pbi5qcyI+PC9zY3JpcHQ+CiAgICA8bGluayByZWw9InN0eWxlc2hlZXQiIGhyZWY9Imh0dHBzOi8vY2RuanMuY2xvdWRmbGFyZS5jb20vYWpheC9saWJzL2xlYWZsZXQuZnVsbHNjcmVlbi8xLjQuMi9Db250cm9sLkZ1bGxTY3JlZW4ubWluLmNzcyIvPgogICAgPHNjcmlwdCBzcmM9Imh0dHBzOi8vY2RuanMuY2xvdWRmbGFyZS5jb20vYWpheC9saWJzL2xlYWZsZXQtbWluaW1hcC8zLjYuMS9Db250cm9sLk1pbmlNYXAuanMiPjwvc2NyaXB0PgogICAgPGxpbmsgcmVsPSJzdHlsZXNoZWV0IiBocmVmPSJodHRwczovL2NkbmpzLmNsb3VkZmxhcmUuY29tL2FqYXgvbGlicy9sZWFmbGV0LW1pbmltYXAvMy42LjEvQ29udHJvbC5NaW5pTWFwLmNzcyIvPgogICAgPHNjcmlwdCBzcmM9Imh0dHBzOi8vY2RuanMuY2xvdWRmbGFyZS5jb20vYWpheC9saWJzL2xlYWZsZXQtbWluaW1hcC8zLjYuMS9Db250cm9sLk1pbmlNYXAuanMiPjwvc2NyaXB0PgogICAgPGxpbmsgcmVsPSJzdHlsZXNoZWV0IiBocmVmPSJodHRwczovL2NkbmpzLmNsb3VkZmxhcmUuY29tL2FqYXgvbGlicy9sZWFmbGV0LW1pbmltYXAvMy42LjEvQ29udHJvbC5NaW5pTWFwLmNzcyIvPgo8L2hlYWQ+Cjxib2R5PiAgICAKICAgIAogICAgICAgIDxoMiBhbGlnbj0iY2VudGVyIiBzdHlsZT0iZm9udC1zaXplOjIwcHgiPjxiPkNvcm9uYXZpcnVzIFRvdGFsIENvbmZpcm1lZCBDYXNlcyBpbiBJbmRpYTwvYj48L2gyPgogICAgICAgIDxoNCBhbGlnbj0iY2VudGVyIiBzdHlsZT0iZm9udC1zaXplOjE2cHgiPjxpPkNyZWF0ZWQgYnk8L2k+IEFTREY8L2g0PgogICAgICAgIDxoNCBhbGlnbj0iY2VudGVyIiBzdHlsZT0iZm9udC1zaXplOjE2cHgiPjxpPlBvd2VyZWQgYnk8L2k+CiAgICAgICAgICAgIDxhIGhyZWY9Imh0dHBzOi8vd3d3LndoaXRlaGF0anIuY29tLyI+V2hpdGVIYXQgSnI8L2E+CiAgICAgICAgPC9oND4KICAgICAgICAgICAgIAogICAgCiAgICA8ZGl2IGNsYXNzPSJmb2xpdW0tbWFwIiBpZD0ibWFwX2Y4MTkyOGYyNzRkMjQ5NmY5N2EzMzJhZWE4MTM1MTM1IiA+PC9kaXY+CiAgICAKICAgICAgICAgICAgPGltZyBpZD0ic2Nyb2xsX3pvb21fdG9nZ2xlcl8yZmFhYzQ2NTkyMzM0MzA5YWQ3MGY4NjhhNjQ5YTBhZSIgYWx0PSJzY3JvbGwiCiAgICAgICAgICAgICAgICAgc3JjPSJodHRwczovL2NkbmpzLmNsb3VkZmxhcmUuY29tL2FqYXgvbGlicy9pb25pY29ucy8yLjAuMS9wbmcvNTEyL2Fycm93LW1vdmUucG5nIgogICAgICAgICAgICAgICAgIHN0eWxlPSJ6LWluZGV4OiA5OTk5OTkiCiAgICAgICAgICAgICAgICAgb25jbGljaz0ibWFwX2Y4MTkyOGYyNzRkMjQ5NmY5N2EzMzJhZWE4MTM1MTM1LnRvZ2dsZVNjcm9sbCgpIj4KICAgICAgICAgICAgPC9pbWc+CiAgICAgICAgICAgIAo8L2JvZHk+CjxzY3JpcHQ+ICAgIAogICAgCiAgICAKICAgICAgICB2YXIgYm91bmRzID0gbnVsbDsKICAgIAoKICAgIHZhciBtYXBfZjgxOTI4ZjI3NGQyNDk2Zjk3YTMzMmFlYTgxMzUxMzUgPSBMLm1hcCgKICAgICAgICAnbWFwX2Y4MTkyOGYyNzRkMjQ5NmY5N2EzMzJhZWE4MTM1MTM1JywgewogICAgICAgIGNlbnRlcjogWzIyLjM1MTExNDgsIDc4LjY2Nzc0MjhdLAogICAgICAgIHpvb206IDUsCiAgICAgICAgbWF4Qm91bmRzOiBib3VuZHMsCiAgICAgICAgbGF5ZXJzOiBbXSwKICAgICAgICB3b3JsZENvcHlKdW1wOiBmYWxzZSwKICAgICAgICBjcnM6IEwuQ1JTLkVQU0czODU3LAogICAgICAgIHpvb21Db250cm9sOiB0cnVlLAogICAgICAgIH0pOwoKCiAgICAKICAgIHZhciB0aWxlX2xheWVyXzc0YjZmNzY0Y2NmYzRkNmM4MmMyNGRmZDc2ODE4ZjViID0gTC50aWxlTGF5ZXIoCiAgICAgICAgJ2h0dHBzOi8ve3N9LnRpbGUub3BlbnN0cmVldG1hcC5vcmcve3p9L3t4fS97eX0ucG5nJywKICAgICAgICB7CiAgICAgICAgImF0dHJpYnV0aW9uIjogbnVsbCwKICAgICAgICAiZGV0ZWN0UmV0aW5hIjogZmFsc2UsCiAgICAgICAgIm1heE5hdGl2ZVpvb20iOiAxOCwKICAgICAgICAibWF4Wm9vbSI6IDE4LAogICAgICAgICJtaW5ab29tIjogMCwKICAgICAgICAibm9XcmFwIjogZmFsc2UsCiAgICAgICAgIm9wYWNpdHkiOiAxLAogICAgICAgICJzdWJkb21haW5zIjogImFiYyIsCiAgICAgICAgInRtcyI6IGZhbHNlCn0pLmFkZFRvKG1hcF9mODE5MjhmMjc0ZDI0OTZmOTdhMzMyYWVhODEzNTEzNSk7CiAgICAKCiAgICAgICAgdmFyIHRpbGVfbGF5ZXJfNGZjZGM2ODM5YTJhNDM5MDgzM2EzZDJjMmMxNmU0NTMgPSBMLnRpbGVMYXllcigKICAgICAgICAnaHR0cHM6Ly97c30udGlsZS5vcGVuc3RyZWV0bWFwLm9yZy97en0ve3h9L3t5fS5wbmcnLAogICAgICAgIHsKICAgICAgICAiYXR0cmlidXRpb24iOiBudWxsLAogICAgICAgICJkZXRlY3RSZXRpbmEiOiBmYWxzZSwKICAgICAgICAibWF4TmF0aXZlWm9vbSI6IDE4LAogICAgICAgICJtYXhab29tIjogMTgsCiAgICAgICAgIm1pblpvb20iOiAwLAogICAgICAgICJub1dyYXAiOiBmYWxzZSwKICAgICAgICAib3BhY2l0eSI6IDEsCiAgICAgICAgInN1YmRvbWFpbnMiOiAiYWJjIiwKICAgICAgICAidG1zIjogZmFsc2UKfSApOwoKICAgICAgICB2YXIgbWluaV9tYXBfMjhiMWRlYThmYWM0NDMwY2EwODI3MWNhMjk4NzkwMDUgPSBuZXcgTC5Db250cm9sLk1pbmlNYXAoIHRpbGVfbGF5ZXJfNGZjZGM2ODM5YTJhNDM5MDgzM2EzZDJjMmMxNmU0NTMsCiAgICAgICAgIHsKICAiYXV0b1RvZ2dsZURpc3BsYXkiOiBmYWxzZSwKICAiY2VudGVyRml4ZWQiOiBmYWxzZSwKICAiY29sbGFwc2VkSGVpZ2h0IjogMjUsCiAgImNvbGxhcHNlZFdpZHRoIjogMjUsCiAgImhlaWdodCI6IDE1MCwKICAibWluaW1pemVkIjogZmFsc2UsCiAgInBvc2l0aW9uIjogImJvdHRvbXJpZ2h0IiwKICAidG9nZ2xlRGlzcGxheSI6IHRydWUsCiAgIndpZHRoIjogMTUwLAogICJ6b29tQW5pbWF0aW9uIjogZmFsc2UsCiAgInpvb21MZXZlbEZpeGVkIjogbnVsbCwKICAiem9vbUxldmVsT2Zmc2V0IjogLTUKfSk7CiAgICAgICAgbWFwX2Y4MTkyOGYyNzRkMjQ5NmY5N2EzMzJhZWE4MTM1MTM1LmFkZENvbnRyb2wobWluaV9tYXBfMjhiMWRlYThmYWM0NDMwY2EwODI3MWNhMjk4NzkwMDUpOwoKICAgICAgICAKICAgIAogICAgICAgICAgICAgICAgICAgIG1hcF9mODE5MjhmMjc0ZDI0OTZmOTdhMzMyYWVhODEzNTEzNS5zY3JvbGxFbmFibGVkID0gdHJ1ZTsKCiAgICAgICAgICAgICAgICAgICAgbWFwX2Y4MTkyOGYyNzRkMjQ5NmY5N2EzMzJhZWE4MTM1MTM1LnRvZ2dsZVNjcm9sbCA9IGZ1bmN0aW9uKCkgewogICAgICAgICAgICAgICAgICAgICAgICBpZiAodGhpcy5zY3JvbGxFbmFibGVkKSB7CiAgICAgICAgICAgICAgICAgICAgICAgICAgICB0aGlzLnNjcm9sbEVuYWJsZWQgPSBmYWxzZTsKICAgICAgICAgICAgICAgICAgICAgICAgICAgIHRoaXMuc2Nyb2xsV2hlZWxab29tLmRpc2FibGUoKTsKICAgICAgICAgICAgICAgICAgICAgICAgICAgIH0KICAgICAgICAgICAgICAgICAgICAgICAgZWxzZSB7CiAgICAgICAgICAgICAgICAgICAgICAgICAgICB0aGlzLnNjcm9sbEVuYWJsZWQgPSB0cnVlOwogICAgICAgICAgICAgICAgICAgICAgICAgICAgdGhpcy5zY3JvbGxXaGVlbFpvb20uZW5hYmxlKCk7CiAgICAgICAgICAgICAgICAgICAgICAgICAgICB9CiAgICAgICAgICAgICAgICAgICAgICAgIH07CgogICAgICAgICAgICAgICAgICAgIG1hcF9mODE5MjhmMjc0ZDI0OTZmOTdhMzMyYWVhODEzNTEzNS50b2dnbGVTY3JvbGwoKTsKICAgICAgICAgICAgCiAgICAKICAgICAgICAgICAgTC5jb250cm9sLmZ1bGxzY3JlZW4oewogICAgICAgICAgICAgICAgcG9zaXRpb246ICd0b3ByaWdodCcsCiAgICAgICAgICAgICAgICB0aXRsZTogJ0Z1bGwgU2NyZWVuJywKICAgICAgICAgICAgICAgIHRpdGxlQ2FuY2VsOiAnRXhpdCBGdWxsIFNjcmVlbicsCiAgICAgICAgICAgICAgICBmb3JjZVNlcGFyYXRlQnV0dG9uOiBmYWxzZSwKICAgICAgICAgICAgICAgIH0pLmFkZFRvKG1hcF9mODE5MjhmMjc0ZDI0OTZmOTdhMzMyYWVhODEzNTEzNSk7CiAgICAgICAgICAgIG1hcF9mODE5MjhmMjc0ZDI0OTZmOTdhMzMyYWVhODEzNTEzNS5vbignZW50ZXJGdWxsc2NyZWVuJywgZnVuY3Rpb24oKXsKICAgICAgICAgICAgICAgIGNvbnNvbGUubG9nKCdlbnRlcmVkIGZ1bGxzY3JlZW4nKTsKICAgICAgICAgICAgfSk7CgogICAgICAgIAogICAgCgogICAgICAgICAgICB2YXIgY2lyY2xlXzhjNGYwZDY2ZjQ5NjQ0N2M5MWFiODc0MzMyMGJkNmUwID0gTC5jaXJjbGUoCiAgICAgICAgICAgICAgICBbMTkuNzUxNSwgNzUuNzEzOV0sCiAgICAgICAgICAgICAgICB7CiAgImJ1YmJsaW5nTW91c2VFdmVudHMiOiB0cnVlLAogICJjb2xvciI6ICJyZWQiLAogICJkYXNoQXJyYXkiOiBudWxsLAogICJkYXNoT2Zmc2V0IjogbnVsbCwKICAiZmlsbCI6IHRydWUsCiAgImZpbGxDb2xvciI6ICJyZWQiLAogICJmaWxsT3BhY2l0eSI6IDAuMiwKICAiZmlsbFJ1bGUiOiAiZXZlbm9kZCIsCiAgImxpbmVDYXAiOiAicm91bmQiLAogICJsaW5lSm9pbiI6ICJyb3VuZCIsCiAgIm9wYWNpdHkiOiAxLjAsCiAgInJhZGl1cyI6IDM5NjI3MC41LAogICJzdHJva2UiOiB0cnVlLAogICJ3ZWlnaHQiOiAzCn0KICAgICAgICAgICAgICAgICkKICAgICAgICAgICAgICAgIC5hZGRUbyhtYXBfZjgxOTI4ZjI3NGQyNDk2Zjk3YTMzMmFlYTgxMzUxMzUpOwogICAgICAgICAgICAKICAgIAogICAgICAgICAgICB2YXIgcG9wdXBfNzc3ZDE1ZDJjM2JmNDYzOTkwZjAwMGFjZDQzODdiYWEgPSBMLnBvcHVwKHttYXhXaWR0aDogJzEwMCUnCiAgICAgICAgICAgIAogICAgICAgICAgICB9KTsKCiAgICAgICAgICAgIAogICAgICAgICAgICAgICAgdmFyIGh0bWxfZGY0NzEwZjQ4NGJkNDI3YWIyNjQzODQ2YmNjMDA2YTEgPSAkKGA8ZGl2IGlkPSJodG1sX2RmNDcxMGY0ODRiZDQyN2FiMjY0Mzg0NmJjYzAwNmExIiBzdHlsZT0id2lkdGg6IDEwMC4wJTsgaGVpZ2h0OiAxMDAuMCU7Ij5NYWhhcmFzaHRyYSAgNzkyNTQxICBvbiAzMS8wOC8yMDIwIDIxOjM5OjMxPC9kaXY+YClbMF07CiAgICAgICAgICAgICAgICBwb3B1cF83NzdkMTVkMmMzYmY0NjM5OTBmMDAwYWNkNDM4N2JhYS5zZXRDb250ZW50KGh0bWxfZGY0NzEwZjQ4NGJkNDI3YWIyNjQzODQ2YmNjMDA2YTEpOwogICAgICAgICAgICAKCiAgICAgICAgICAgIGNpcmNsZV84YzRmMGQ2NmY0OTY0NDdjOTFhYjg3NDMzMjBiZDZlMC5iaW5kUG9wdXAocG9wdXBfNzc3ZDE1ZDJjM2JmNDYzOTkwZjAwMGFjZDQzODdiYWEpCiAgICAgICAgICAgIDsKCiAgICAgICAgICAgIAogICAgICAgIAogICAgCgogICAgICAgICAgICB2YXIgY2lyY2xlXzg0NDcwMGVhYjI5NzQ1MDhiM2YxYTQwMDY3MjBiNTMzID0gTC5jaXJjbGUoCiAgICAgICAgICAgICAgICBbMTEuMTI3MSwgNzguNjU2OV0sCiAgICAgICAgICAgICAgICB7CiAgImJ1YmJsaW5nTW91c2VFdmVudHMiOiB0cnVlLAogICJjb2xvciI6ICJyZWQiLAogICJkYXNoQXJyYXkiOiBudWxsLAogICJkYXNoT2Zmc2V0IjogbnVsbCwKICAiZmlsbCI6IHRydWUsCiAgImZpbGxDb2xvciI6ICJyZWQiLAogICJmaWxsT3BhY2l0eSI6IDAuMiwKICAiZmlsbFJ1bGUiOiAiZXZlbm9kZCIsCiAgImxpbmVDYXAiOiAicm91bmQiLAogICJsaW5lSm9pbiI6ICJyb3VuZCIsCiAgIm9wYWNpdHkiOiAxLjAsCiAgInJhZGl1cyI6IDIxNDAyMC41LAogICJzdHJva2UiOiB0cnVlLAogICJ3ZWlnaHQiOiAzCn0KICAgICAgICAgICAgICAgICkKICAgICAgICAgICAgICAgIC5hZGRUbyhtYXBfZjgxOTI4ZjI3NGQyNDk2Zjk3YTMzMmFlYTgxMzUxMzUpOwogICAgICAgICAgICAKICAgIAogICAgICAgICAgICB2YXIgcG9wdXBfM2FhMDhmZTkzZDkzNGY1ZWI4NzQ2MmE0ZTIzNzBiYzAgPSBMLnBvcHVwKHttYXhXaWR0aDogJzEwMCUnCiAgICAgICAgICAgIAogICAgICAgICAgICB9KTsKCiAgICAgICAgICAgIAogICAgICAgICAgICAgICAgdmFyIGh0bWxfMDY5ZWNhM2VmYzliNGE2YThkYmRjNWJhYWRjOWJhMTEgPSAkKGA8ZGl2IGlkPSJodG1sXzA2OWVjYTNlZmM5YjRhNmE4ZGJkYzViYWFkYzliYTExIiBzdHlsZT0id2lkdGg6IDEwMC4wJTsgaGVpZ2h0OiAxMDAuMCU7Ij5UYW1pbCBOYWR1ICA0MjgwNDEgIG9uIDMxLzA4LzIwMjAgMjA6NDE6MzA8L2Rpdj5gKVswXTsKICAgICAgICAgICAgICAgIHBvcHVwXzNhYTA4ZmU5M2Q5MzRmNWViODc0NjJhNGUyMzcwYmMwLnNldENvbnRlbnQoaHRtbF8wNjllY2EzZWZjOWI0YTZhOGRiZGM1YmFhZGM5YmExMSk7CiAgICAgICAgICAgIAoKICAgICAgICAgICAgY2lyY2xlXzg0NDcwMGVhYjI5NzQ1MDhiM2YxYTQwMDY3MjBiNTMzLmJpbmRQb3B1cChwb3B1cF8zYWEwOGZlOTNkOTM0ZjVlYjg3NDYyYTRlMjM3MGJjMCkKICAgICAgICAgICAgOwoKICAgICAgICAgICAgCiAgICAgICAgCiAgICAKCiAgICAgICAgICAgIHZhciBjaXJjbGVfNWE5NTE5MzViNzdkNDdlZWE2YWUwY2U3MmVjMWUwMmYgPSBMLmNpcmNsZSgKICAgICAgICAgICAgICAgIFsxNS45MTI5LCA3OS43NF0sCiAgICAgICAgICAgICAgICB7CiAgImJ1YmJsaW5nTW91c2VFdmVudHMiOiB0cnVlLAogICJjb2xvciI6ICJyZWQiLAogICJkYXNoQXJyYXkiOiBudWxsLAogICJkYXNoT2Zmc2V0IjogbnVsbCwKICAiZmlsbCI6IHRydWUsCiAgImZpbGxDb2xvciI6ICJyZWQiLAogICJmaWxsT3BhY2l0eSI6IDAuMiwKICAiZmlsbFJ1bGUiOiAiZXZlbm9kZCIsCiAgImxpbmVDYXAiOiAicm91bmQiLAogICJsaW5lSm9pbiI6ICJyb3VuZCIsCiAgIm9wYWNpdHkiOiAxLjAsCiAgInJhZGl1cyI6IDIxNzM4NS41LAogICJzdHJva2UiOiB0cnVlLAogICJ3ZWlnaHQiOiAzCn0KICAgICAgICAgICAgICAgICkKICAgICAgICAgICAgICAgIC5hZGRUbyhtYXBfZjgxOTI4ZjI3NGQyNDk2Zjk3YTMzMmFlYTgxMzUxMzUpOwogICAgICAgICAgICAKICAgIAogICAgICAgICAgICB2YXIgcG9wdXBfZTdkYjFiYmUxMmUwNGQ3Njg3NDVmM2E2Njk5OTE2OWIgPSBMLnBvcHVwKHttYXhXaWR0aDogJzEwMCUnCiAgICAgICAgICAgIAogICAgICAgICAgICB9KTsKCiAgICAgICAgICAgIAogICAgICAgICAgICAgICAgdmFyIGh0bWxfYmMxNDEzNTQ5MTU4NGM2ZDk1OGUxYWNiOWEzMjAzYmIgPSAkKGA8ZGl2IGlkPSJodG1sX2JjMTQxMzU0OTE1ODRjNmQ5NThlMWFjYjlhMzIwM2JiIiBzdHlsZT0id2lkdGg6IDEwMC4wJTsgaGVpZ2h0OiAxMDAuMCU7Ij5BbmRocmEgUHJhZGVzaCAgNDM0NzcxICBvbiAzMS8wOC8yMDIwIDE4OjE4OjI4PC9kaXY+YClbMF07CiAgICAgICAgICAgICAgICBwb3B1cF9lN2RiMWJiZTEyZTA0ZDc2ODc0NWYzYTY2OTk5MTY5Yi5zZXRDb250ZW50KGh0bWxfYmMxNDEzNTQ5MTU4NGM2ZDk1OGUxYWNiOWEzMjAzYmIpOwogICAgICAgICAgICAKCiAgICAgICAgICAgIGNpcmNsZV81YTk1MTkzNWI3N2Q0N2VlYTZhZTBjZTcyZWMxZTAyZi5iaW5kUG9wdXAocG9wdXBfZTdkYjFiYmUxMmUwNGQ3Njg3NDVmM2E2Njk5OTE2OWIpCiAgICAgICAgICAgIDsKCiAgICAgICAgICAgIAogICAgICAgIAogICAgCgogICAgICAgICAgICB2YXIgY2lyY2xlXzU0Mjc1OWJlYzVhMzRiMGQ4MzUxODRjMzQyYTkxNTkzID0gTC5jaXJjbGUoCiAgICAgICAgICAgICAgICBbMTUuMzE3LCA3NS43MTM5XSwKICAgICAgICAgICAgICAgIHsKICAiYnViYmxpbmdNb3VzZUV2ZW50cyI6IHRydWUsCiAgImNvbG9yIjogInJlZCIsCiAgImRhc2hBcnJheSI6IG51bGwsCiAgImRhc2hPZmZzZXQiOiBudWxsLAogICJmaWxsIjogdHJ1ZSwKICAiZmlsbENvbG9yIjogInJlZCIsCiAgImZpbGxPcGFjaXR5IjogMC4yLAogICJmaWxsUnVsZSI6ICJldmVub2RkIiwKICAibGluZUNhcCI6ICJyb3VuZCIsCiAgImxpbmVKb2luIjogInJvdW5kIiwKICAib3BhY2l0eSI6IDEuMCwKICAicmFkaXVzIjogMTcxMjExLjUsCiAgInN0cm9rZSI6IHRydWUsCiAgIndlaWdodCI6IDMKfQogICAgICAgICAgICAgICAgKQogICAgICAgICAgICAgICAgLmFkZFRvKG1hcF9mODE5MjhmMjc0ZDI0OTZmOTdhMzMyYWVhODEzNTEzNSk7CiAgICAgICAgICAgIAogICAgCiAgICAgICAgICAgIHZhciBwb3B1cF80ZmM4MmU4Njk4M2I0YWEzODE2MjJlZWNlOGVlNGMyYiA9IEwucG9wdXAoe21heFdpZHRoOiAnMTAwJScKICAgICAgICAgICAgCiAgICAgICAgICAgIH0pOwoKICAgICAgICAgICAgCiAgICAgICAgICAgICAgICB2YXIgaHRtbF9iNDVhYmM0NDM0NWY0ZjI1YjViNjEzODRhZGRkNzcyNSA9ICQoYDxkaXYgaWQ9Imh0bWxfYjQ1YWJjNDQzNDVmNGYyNWI1YjYxMzg0YWRkZDc3MjUiIHN0eWxlPSJ3aWR0aDogMTAwLjAlOyBoZWlnaHQ6IDEwMC4wJTsiPkthcm5hdGFrYSAgMzQyNDIzICBvbiAzMS8wOC8yMDIwIDIwOjUzOjI4PC9kaXY+YClbMF07CiAgICAgICAgICAgICAgICBwb3B1cF80ZmM4MmU4Njk4M2I0YWEzODE2MjJlZWNlOGVlNGMyYi5zZXRDb250ZW50KGh0bWxfYjQ1YWJjNDQzNDVmNGYyNWI1YjYxMzg0YWRkZDc3MjUpOwogICAgICAgICAgICAKCiAgICAgICAgICAgIGNpcmNsZV81NDI3NTliZWM1YTM0YjBkODM1MTg0YzM0MmE5MTU5My5iaW5kUG9wdXAocG9wdXBfNGZjODJlODY5ODNiNGFhMzgxNjIyZWVjZThlZTRjMmIpCiAgICAgICAgICAgIDsKCiAgICAgICAgICAgIAogICAgICAgIAogICAgCgogICAgICAgICAgICB2YXIgY2lyY2xlXzY5YmRjNjQxZGVjZDQyMjhiNzZlZDg2YzMzYmQ5ZmVkID0gTC5jaXJjbGUoCiAgICAgICAgICAgICAgICBbMjguNzA0MSwgNzcuMTAyNV0sCiAgICAgICAgICAgICAgICB7CiAgImJ1YmJsaW5nTW91c2VFdmVudHMiOiB0cnVlLAogICJjb2xvciI6ICJyZWQiLAogICJkYXNoQXJyYXkiOiBudWxsLAogICJkYXNoT2Zmc2V0IjogbnVsbCwKICAiZmlsbCI6IHRydWUsCiAgImZpbGxDb2xvciI6ICJyZWQiLAogICJmaWxsT3BhY2l0eSI6IDAuMiwKICAiZmlsbFJ1bGUiOiAiZXZlbm9kZCIsCiAgImxpbmVDYXAiOiAicm91bmQiLAogICJsaW5lSm9pbiI6ICJyb3VuZCIsCiAgIm9wYWNpdHkiOiAxLjAsCiAgInJhZGl1cyI6IDg3Mzc0LjAsCiAgInN0cm9rZSI6IHRydWUsCiAgIndlaWdodCI6IDMKfQogICAgICAgICAgICAgICAgKQogICAgICAgICAgICAgICAgLmFkZFRvKG1hcF9mODE5MjhmMjc0ZDI0OTZmOTdhMzMyYWVhODEzNTEzNSk7CiAgICAgICAgICAgIAogICAgCiAgICAgICAgICAgIHZhciBwb3B1cF8xYTRhNzNkMmVlNGI0MjZlODYwNDBjN2Q3NzYwMjk0MCA9IEwucG9wdXAoe21heFdpZHRoOiAnMTAwJScKICAgICAgICAgICAgCiAgICAgICAgICAgIH0pOwoKICAgICAgICAgICAgCiAgICAgICAgICAgICAgICB2YXIgaHRtbF9iYThlNGZhOWRlNjU0NTgwOGFmMmJmNjZmMjU2NjQ5MCA9ICQoYDxkaXYgaWQ9Imh0bWxfYmE4ZTRmYTlkZTY1NDU4MDhhZjJiZjY2ZjI1NjY0OTAiIHN0eWxlPSJ3aWR0aDogMTAwLjAlOyBoZWlnaHQ6IDEwMC4wJTsiPkRlbGhpICAxNzQ3NDggIG9uIDMxLzA4LzIwMjAgMTk6MjE6MjQ8L2Rpdj5gKVswXTsKICAgICAgICAgICAgICAgIHBvcHVwXzFhNGE3M2QyZWU0YjQyNmU4NjA0MGM3ZDc3NjAyOTQwLnNldENvbnRlbnQoaHRtbF9iYThlNGZhOWRlNjU0NTgwOGFmMmJmNjZmMjU2NjQ5MCk7CiAgICAgICAgICAgIAoKICAgICAgICAgICAgY2lyY2xlXzY5YmRjNjQxZGVjZDQyMjhiNzZlZDg2YzMzYmQ5ZmVkLmJpbmRQb3B1cChwb3B1cF8xYTRhNzNkMmVlNGI0MjZlODYwNDBjN2Q3NzYwMjk0MCkKICAgICAgICAgICAgOwoKICAgICAgICAgICAgCiAgICAgICAgCiAgICAKCiAgICAgICAgICAgIHZhciBjaXJjbGVfYjk3ZjYwNzc2MDY0NGU4OGFkNTRiODU4ZGUwZTdmY2MgPSBMLmNpcmNsZSgKICAgICAgICAgICAgICAgIFsyNi44NDY3LCA4MC45NDYyXSwKICAgICAgICAgICAgICAgIHsKICAiYnViYmxpbmdNb3VzZUV2ZW50cyI6IHRydWUsCiAgImNvbG9yIjogInJlZCIsCiAgImRhc2hBcnJheSI6IG51bGwsCiAgImRhc2hPZmZzZXQiOiBudWxsLAogICJmaWxsIjogdHJ1ZSwKICAiZmlsbENvbG9yIjogInJlZCIsCiAgImZpbGxPcGFjaXR5IjogMC4yLAogICJmaWxsUnVsZSI6ICJldmVub2RkIiwKICAibGluZUNhcCI6ICJyb3VuZCIsCiAgImxpbmVKb2luIjogInJvdW5kIiwKICAib3BhY2l0eSI6IDEuMCwKICAicmFkaXVzIjogMTE1MjA3LjAsCiAgInN0cm9rZSI6IHRydWUsCiAgIndlaWdodCI6IDMKfQogICAgICAgICAgICAgICAgKQogICAgICAgICAgICAgICAgLmFkZFRvKG1hcF9mODE5MjhmMjc0ZDI0OTZmOTdhMzMyYWVhODEzNTEzNSk7CiAgICAgICAgICAgIAogICAgCiAgICAgICAgICAgIHZhciBwb3B1cF80MGU5YWVjYjcxM2Y0ZDFiYTNiOWFiNzZjYTJkOGQ3ZiA9IEwucG9wdXAoe21heFdpZHRoOiAnMTAwJScKICAgICAgICAgICAgCiAgICAgICAgICAgIH0pOwoKICAgICAgICAgICAgCiAgICAgICAgICAgICAgICB2YXIgaHRtbF8zMTRlM2Y2MzMzYzU0MmFlODdjYmI0MmIwYzQ3ZDdkMiA9ICQoYDxkaXYgaWQ9Imh0bWxfMzE0ZTNmNjMzM2M1NDJhZTg3Y2JiNDJiMGM0N2Q3ZDIiIHN0eWxlPSJ3aWR0aDogMTAwLjAlOyBoZWlnaHQ6IDEwMC4wJTsiPlV0dGFyIFByYWRlc2ggIDIzMDQxNCAgb24gMzEvMDgvMjAyMCAxNzozOTo0NTwvZGl2PmApWzBdOwogICAgICAgICAgICAgICAgcG9wdXBfNDBlOWFlY2I3MTNmNGQxYmEzYjlhYjc2Y2EyZDhkN2Yuc2V0Q29udGVudChodG1sXzMxNGUzZjYzMzNjNTQyYWU4N2NiYjQyYjBjNDdkN2QyKTsKICAgICAgICAgICAgCgogICAgICAgICAgICBjaXJjbGVfYjk3ZjYwNzc2MDY0NGU4OGFkNTRiODU4ZGUwZTdmY2MuYmluZFBvcHVwKHBvcHVwXzQwZTlhZWNiNzEzZjRkMWJhM2I5YWI3NmNhMmQ4ZDdmKQogICAgICAgICAgICA7CgogICAgICAgICAgICAKICAgICAgICAKICAgIAoKICAgICAgICAgICAgdmFyIGNpcmNsZV9hZGM5MDY2YzQ2ODI0NzM3YjJiOTVmMDE1MzMyYzY4YSA9IEwuY2lyY2xlKAogICAgICAgICAgICAgICAgWzIyLjk4NjgsIDg3Ljg1NV0sCiAgICAgICAgICAgICAgICB7CiAgImJ1YmJsaW5nTW91c2VFdmVudHMiOiB0cnVlLAogICJjb2xvciI6ICJyZWQiLAogICJkYXNoQXJyYXkiOiBudWxsLAogICJkYXNoT2Zmc2V0IjogbnVsbCwKICAiZmlsbCI6IHRydWUsCiAgImZpbGxDb2xvciI6ICJyZWQiLAogICJmaWxsT3BhY2l0eSI6IDAuMiwKICAiZmlsbFJ1bGUiOiAiZXZlbm9kZCIsCiAgImxpbmVDYXAiOiAicm91bmQiLAogICJsaW5lSm9pbiI6ICJyb3VuZCIsCiAgIm9wYWNpdHkiOiAxLjAsCiAgInJhZGl1cyI6IDgxMzg5LjAsCiAgInN0cm9rZSI6IHRydWUsCiAgIndlaWdodCI6IDMKfQogICAgICAgICAgICAgICAgKQogICAgICAgICAgICAgICAgLmFkZFRvKG1hcF9mODE5MjhmMjc0ZDI0OTZmOTdhMzMyYWVhODEzNTEzNSk7CiAgICAgICAgICAgIAogICAgCiAgICAgICAgICAgIHZhciBwb3B1cF8yZGZjMjU5N2M4NjY0Mjc1YjFjZjNkNTVjOWRjOWYxMCA9IEwucG9wdXAoe21heFdpZHRoOiAnMTAwJScKICAgICAgICAgICAgCiAgICAgICAgICAgIH0pOwoKICAgICAgICAgICAgCiAgICAgICAgICAgICAgICB2YXIgaHRtbF9kNWEyMTg1OWRkYzI0YjM0OGE0YmYwNGMxN2Q3MjY3NyA9ICQoYDxkaXYgaWQ9Imh0bWxfZDVhMjE4NTlkZGMyNGIzNDhhNGJmMDRjMTdkNzI2NzciIHN0eWxlPSJ3aWR0aDogMTAwLjAlOyBoZWlnaHQ6IDEwMC4wJTsiPldlc3QgQmVuZ2FsICAxNjI3NzggIG9uIDMxLzA4LzIwMjAgMjA6NTg6MjY8L2Rpdj5gKVswXTsKICAgICAgICAgICAgICAgIHBvcHVwXzJkZmMyNTk3Yzg2NjQyNzViMWNmM2Q1NWM5ZGM5ZjEwLnNldENvbnRlbnQoaHRtbF9kNWEyMTg1OWRkYzI0YjM0OGE0YmYwNGMxN2Q3MjY3Nyk7CiAgICAgICAgICAgIAoKICAgICAgICAgICAgY2lyY2xlX2FkYzkwNjZjNDY4MjQ3MzdiMmI5NWYwMTUzMzJjNjhhLmJpbmRQb3B1cChwb3B1cF8yZGZjMjU5N2M4NjY0Mjc1YjFjZjNkNTVjOWRjOWYxMCkKICAgICAgICAgICAgOwoKICAgICAgICAgICAgCiAgICAgICAgCiAgICAKCiAgICAgICAgICAgIHZhciBjaXJjbGVfZTFlNTViZTFhNzUzNGQ1OGFkYjAxOTU5NTg5OTM4NjEgPSBMLmNpcmNsZSgKICAgICAgICAgICAgICAgIFsyNS4wOTYxLCA4NS4zMTMxXSwKICAgICAgICAgICAgICAgIHsKICAiYnViYmxpbmdNb3VzZUV2ZW50cyI6IHRydWUsCiAgImNvbG9yIjogInJlZCIsCiAgImRhc2hBcnJheSI6IG51bGwsCiAgImRhc2hPZmZzZXQiOiBudWxsLAogICJmaWxsIjogdHJ1ZSwKICAiZmlsbENvbG9yIjogInJlZCIsCiAgImZpbGxPcGFjaXR5IjogMC4yLAogICJmaWxsUnVsZSI6ICJldmVub2RkIiwKICAibGluZUNhcCI6ICJyb3VuZCIsCiAgImxpbmVKb2luIjogInJvdW5kIiwKICAib3BhY2l0eSI6IDEuMCwKICAicmFkaXVzIjogNjgxNjguNSwKICAic3Ryb2tlIjogdHJ1ZSwKICAid2VpZ2h0IjogMwp9CiAgICAgICAgICAgICAgICApCiAgICAgICAgICAgICAgICAuYWRkVG8obWFwX2Y4MTkyOGYyNzRkMjQ5NmY5N2EzMzJhZWE4MTM1MTM1KTsKICAgICAgICAgICAgCiAgICAKICAgICAgICAgICAgdmFyIHBvcHVwX2Q4ZjNhZjY5ZTZhZjRiZTFiODVjYzllYWFjMzQzYjgyID0gTC5wb3B1cCh7bWF4V2lkdGg6ICcxMDAlJwogICAgICAgICAgICAKICAgICAgICAgICAgfSk7CgogICAgICAgICAgICAKICAgICAgICAgICAgICAgIHZhciBodG1sXzIwZjQ0MzY0OTAxNzQzZTE5ZDFjOTE1YTg2NjljMzVmID0gJChgPGRpdiBpZD0iaHRtbF8yMGY0NDM2NDkwMTc0M2UxOWQxYzkxNWE4NjY5YzM1ZiIgc3R5bGU9IndpZHRoOiAxMDAuMCU7IGhlaWdodDogMTAwLjAlOyI+QmloYXIgIDEzNjMzNyAgb24gMzEvMDgvMjAyMCAxNzo0MzozMTwvZGl2PmApWzBdOwogICAgICAgICAgICAgICAgcG9wdXBfZDhmM2FmNjllNmFmNGJlMWI4NWNjOWVhYWMzNDNiODIuc2V0Q29udGVudChodG1sXzIwZjQ0MzY0OTAxNzQzZTE5ZDFjOTE1YTg2NjljMzVmKTsKICAgICAgICAgICAgCgogICAgICAgICAgICBjaXJjbGVfZTFlNTViZTFhNzUzNGQ1OGFkYjAxOTU5NTg5OTM4NjEuYmluZFBvcHVwKHBvcHVwX2Q4ZjNhZjY5ZTZhZjRiZTFiODVjYzllYWFjMzQzYjgyKQogICAgICAgICAgICA7CgogICAgICAgICAgICAKICAgICAgICAKICAgIAoKICAgICAgICAgICAgdmFyIGNpcmNsZV9iODMxODI0MmUxZjY0MTM2OWVkNGZjYjE3MWJmZTAzZCA9IEwuY2lyY2xlKAogICAgICAgICAgICAgICAgWzE4LjExMjQsIDc5LjAxOTNdLAogICAgICAgICAgICAgICAgewogICJidWJibGluZ01vdXNlRXZlbnRzIjogdHJ1ZSwKICAiY29sb3IiOiAicmVkIiwKICAiZGFzaEFycmF5IjogbnVsbCwKICAiZGFzaE9mZnNldCI6IG51bGwsCiAgImZpbGwiOiB0cnVlLAogICJmaWxsQ29sb3IiOiAicmVkIiwKICAiZmlsbE9wYWNpdHkiOiAwLjIsCiAgImZpbGxSdWxlIjogImV2ZW5vZGQiLAogICJsaW5lQ2FwIjogInJvdW5kIiwKICAibGluZUpvaW4iOiAicm91bmQiLAogICJvcGFjaXR5IjogMS4wLAogICJyYWRpdXMiOiA2MjQ4MS41LAogICJzdHJva2UiOiB0cnVlLAogICJ3ZWlnaHQiOiAzCn0KICAgICAgICAgICAgICAgICkKICAgICAgICAgICAgICAgIC5hZGRUbyhtYXBfZjgxOTI4ZjI3NGQyNDk2Zjk3YTMzMmFlYTgxMzUxMzUpOwogICAgICAgICAgICAKICAgIAogICAgICAgICAgICB2YXIgcG9wdXBfYTBjMDEyZWU5ZDM5NDk0ZDlkM2RkYzllYmZhOWJhMzAgPSBMLnBvcHVwKHttYXhXaWR0aDogJzEwMCUnCiAgICAgICAgICAgIAogICAgICAgICAgICB9KTsKCiAgICAgICAgICAgIAogICAgICAgICAgICAgICAgdmFyIGh0bWxfMmE4YjRlZDNjYzUyNDUxMWFiOTRlZjYyMDdlOGYyOGMgPSAkKGA8ZGl2IGlkPSJodG1sXzJhOGI0ZWQzY2M1MjQ1MTFhYjk0ZWY2MjA3ZThmMjhjIiBzdHlsZT0id2lkdGg6IDEwMC4wJTsgaGVpZ2h0OiAxMDAuMCU7Ij5UZWxhbmdhbmEgIDEyNDk2MyAgb24gMzEvMDgvMjAyMCAwOTozOToyNzwvZGl2PmApWzBdOwogICAgICAgICAgICAgICAgcG9wdXBfYTBjMDEyZWU5ZDM5NDk0ZDlkM2RkYzllYmZhOWJhMzAuc2V0Q29udGVudChodG1sXzJhOGI0ZWQzY2M1MjQ1MTFhYjk0ZWY2MjA3ZThmMjhjKTsKICAgICAgICAgICAgCgogICAgICAgICAgICBjaXJjbGVfYjgzMTgyNDJlMWY2NDEzNjllZDRmY2IxNzFiZmUwM2QuYmluZFBvcHVwKHBvcHVwX2EwYzAxMmVlOWQzOTQ5NGQ5ZDNkZGM5ZWJmYTliYTMwKQogICAgICAgICAgICA7CgogICAgICAgICAgICAKICAgICAgICAKICAgIAoKICAgICAgICAgICAgdmFyIGNpcmNsZV85YmE3YzQ3MzUzZjQ0NDIwODEzZDRkNzk1MmUwZWY1MSA9IEwuY2lyY2xlKAogICAgICAgICAgICAgICAgWzIyLjI1ODcsIDcxLjE5MjRdLAogICAgICAgICAgICAgICAgewogICJidWJibGluZ01vdXNlRXZlbnRzIjogdHJ1ZSwKICAiY29sb3IiOiAicmVkIiwKICAiZGFzaEFycmF5IjogbnVsbCwKICAiZGFzaE9mZnNldCI6IG51bGwsCiAgImZpbGwiOiB0cnVlLAogICJmaWxsQ29sb3IiOiAicmVkIiwKICAiZmlsbE9wYWNpdHkiOiAwLjIsCiAgImZpbGxSdWxlIjogImV2ZW5vZGQiLAogICJsaW5lQ2FwIjogInJvdW5kIiwKICAibGluZUpvaW4iOiAicm91bmQiLAogICJvcGFjaXR5IjogMS4wLAogICJyYWRpdXMiOiA0ODIxNy41LAogICJzdHJva2UiOiB0cnVlLAogICJ3ZWlnaHQiOiAzCn0KICAgICAgICAgICAgICAgICkKICAgICAgICAgICAgICAgIC5hZGRUbyhtYXBfZjgxOTI4ZjI3NGQyNDk2Zjk3YTMzMmFlYTgxMzUxMzUpOwogICAgICAgICAgICAKICAgIAogICAgICAgICAgICB2YXIgcG9wdXBfYTFkMTFmMGQzOWI2NDQyN2FkZGIxMmZmZDFmMDUxNTAgPSBMLnBvcHVwKHttYXhXaWR0aDogJzEwMCUnCiAgICAgICAgICAgIAogICAgICAgICAgICB9KTsKCiAgICAgICAgICAgIAogICAgICAgICAgICAgICAgdmFyIGh0bWxfMzg2OTM0Mzk2MjcyNDAyYWI1M2EwYTFkOWE1YjNjOWEgPSAkKGA8ZGl2IGlkPSJodG1sXzM4NjkzNDM5NjI3MjQwMmFiNTNhMGExZDlhNWIzYzlhIiBzdHlsZT0id2lkdGg6IDEwMC4wJTsgaGVpZ2h0OiAxMDAuMCU7Ij5HdWphcmF0ICA5NjQzNSAgb24gMzEvMDgvMjAyMCAyMTozOTozNDwvZGl2PmApWzBdOwogICAgICAgICAgICAgICAgcG9wdXBfYTFkMTFmMGQzOWI2NDQyN2FkZGIxMmZmZDFmMDUxNTAuc2V0Q29udGVudChodG1sXzM4NjkzNDM5NjI3MjQwMmFiNTNhMGExZDlhNWIzYzlhKTsKICAgICAgICAgICAgCgogICAgICAgICAgICBjaXJjbGVfOWJhN2M0NzM1M2Y0NDQyMDgxM2Q0ZDc5NTJlMGVmNTEuYmluZFBvcHVwKHBvcHVwX2ExZDExZjBkMzliNjQ0MjdhZGRiMTJmZmQxZjA1MTUwKQogICAgICAgICAgICA7CgogICAgICAgICAgICAKICAgICAgICAKICAgIAoKICAgICAgICAgICAgdmFyIGNpcmNsZV81NGVmYmMzYzFhMzU0YmZkOWYzNTM4ODZlNDhhNTA1MyA9IEwuY2lyY2xlKAogICAgICAgICAgICAgICAgWzI2LjIwMDYsIDkyLjkzNzZdLAogICAgICAgICAgICAgICAgewogICJidWJibGluZ01vdXNlRXZlbnRzIjogdHJ1ZSwKICAiY29sb3IiOiAicmVkIiwKICAiZGFzaEFycmF5IjogbnVsbCwKICAiZGFzaE9mZnNldCI6IG51bGwsCiAgImZpbGwiOiB0cnVlLAogICJmaWxsQ29sb3IiOiAicmVkIiwKICAiZmlsbE9wYWNpdHkiOiAwLjIsCiAgImZpbGxSdWxlIjogImV2ZW5vZGQiLAogICJsaW5lQ2FwIjogInJvdW5kIiwKICAibGluZUpvaW4iOiAicm91bmQiLAogICJvcGFjaXR5IjogMS4wLAogICJyYWRpdXMiOiA1Mjg4Ny41LAogICJzdHJva2UiOiB0cnVlLAogICJ3ZWlnaHQiOiAzCn0KICAgICAgICAgICAgICAgICkKICAgICAgICAgICAgICAgIC5hZGRUbyhtYXBfZjgxOTI4ZjI3NGQyNDk2Zjk3YTMzMmFlYTgxMzUxMzUpOwogICAgICAgICAgICAKICAgIAogICAgICAgICAgICB2YXIgcG9wdXBfMzQ0YmMwZDE4ZDRjNGUwYjg0MzgxZDdjZjYxZDY0OTkgPSBMLnBvcHVwKHttYXhXaWR0aDogJzEwMCUnCiAgICAgICAgICAgIAogICAgICAgICAgICB9KTsKCiAgICAgICAgICAgIAogICAgICAgICAgICAgICAgdmFyIGh0bWxfZGMyNDQ5ZGY3YmE1NGQ3MGJmYTBmMjA3ZGZjMDk2OWUgPSAkKGA8ZGl2IGlkPSJodG1sX2RjMjQ0OWRmN2JhNTRkNzBiZmEwZjIwN2RmYzA5NjllIiBzdHlsZT0id2lkdGg6IDEwMC4wJTsgaGVpZ2h0OiAxMDAuMCU7Ij5Bc3NhbSAgMTA1Nzc1ICBvbiAzMS8wOC8yMDIwIDIwOjMyOjI4PC9kaXY+YClbMF07CiAgICAgICAgICAgICAgICBwb3B1cF8zNDRiYzBkMThkNGM0ZTBiODQzODFkN2NmNjFkNjQ5OS5zZXRDb250ZW50KGh0bWxfZGMyNDQ5ZGY3YmE1NGQ3MGJmYTBmMjA3ZGZjMDk2OWUpOwogICAgICAgICAgICAKCiAgICAgICAgICAgIGNpcmNsZV81NGVmYmMzYzFhMzU0YmZkOWYzNTM4ODZlNDhhNTA1My5iaW5kUG9wdXAocG9wdXBfMzQ0YmMwZDE4ZDRjNGUwYjg0MzgxZDdjZjYxZDY0OTkpCiAgICAgICAgICAgIDsKCiAgICAgICAgICAgIAogICAgICAgIAogICAgCgogICAgICAgICAgICB2YXIgY2lyY2xlX2IzN2NkMGUyOTAzNDQ2YmJiNzFkYmEyZDAwYmQ4ODE3ID0gTC5jaXJjbGUoCiAgICAgICAgICAgICAgICBbMjcuMDIzOCwgNzQuMjE3OV0sCiAgICAgICAgICAgICAgICB7CiAgImJ1YmJsaW5nTW91c2VFdmVudHMiOiB0cnVlLAogICJjb2xvciI6ICJyZWQiLAogICJkYXNoQXJyYXkiOiBudWxsLAogICJkYXNoT2Zmc2V0IjogbnVsbCwKICAiZmlsbCI6IHRydWUsCiAgImZpbGxDb2xvciI6ICJyZWQiLAogICJmaWxsT3BhY2l0eSI6IDAuMiwKICAiZmlsbFJ1bGUiOiAiZXZlbm9kZCIsCiAgImxpbmVDYXAiOiAicm91bmQiLAogICJsaW5lSm9pbiI6ICJyb3VuZCIsCiAgIm9wYWNpdHkiOiAxLjAsCiAgInJhZGl1cyI6IDQwNDM2LjAsCiAgInN0cm9rZSI6IHRydWUsCiAgIndlaWdodCI6IDMKfQogICAgICAgICAgICAgICAgKQogICAgICAgICAgICAgICAgLmFkZFRvKG1hcF9mODE5MjhmMjc0ZDI0OTZmOTdhMzMyYWVhODEzNTEzNSk7CiAgICAgICAgICAgIAogICAgCiAgICAgICAgICAgIHZhciBwb3B1cF8zZDAwMWE4MGRhM2M0MWMwYjg3YjgyZGU4MjVmMDY4ZCA9IEwucG9wdXAoe21heFdpZHRoOiAnMTAwJScKICAgICAgICAgICAgCiAgICAgICAgICAgIH0pOwoKICAgICAgICAgICAgCiAgICAgICAgICAgICAgICB2YXIgaHRtbF9jMjJiNTU2YmU0YzU0MmI0OTMwNWYwMWYwZWE1ZmExNCA9ICQoYDxkaXYgaWQ9Imh0bWxfYzIyYjU1NmJlNGM1NDJiNDkzMDVmMDFmMGVhNWZhMTQiIHN0eWxlPSJ3aWR0aDogMTAwLjAlOyBoZWlnaHQ6IDEwMC4wJTsiPlJhamFzdGhhbiAgODA4NzIgIG9uIDMxLzA4LzIwMjAgMTE6MjM6MjI8L2Rpdj5gKVswXTsKICAgICAgICAgICAgICAgIHBvcHVwXzNkMDAxYTgwZGEzYzQxYzBiODdiODJkZTgyNWYwNjhkLnNldENvbnRlbnQoaHRtbF9jMjJiNTU2YmU0YzU0MmI0OTMwNWYwMWYwZWE1ZmExNCk7CiAgICAgICAgICAgIAoKICAgICAgICAgICAgY2lyY2xlX2IzN2NkMGUyOTAzNDQ2YmJiNzFkYmEyZDAwYmQ4ODE3LmJpbmRQb3B1cChwb3B1cF8zZDAwMWE4MGRhM2M0MWMwYjg3YjgyZGU4MjVmMDY4ZCkKICAgICAgICAgICAgOwoKICAgICAgICAgICAgCiAgICAgICAgCiAgICAKCiAgICAgICAgICAgIHZhciBjaXJjbGVfMzcwYWI2NjRkNzlmNGM1NzhhMTU1YTQ5OWMxMDY0ZjUgPSBMLmNpcmNsZSgKICAgICAgICAgICAgICAgIFsyMC45NTE3LCA4NS4wOTg1XSwKICAgICAgICAgICAgICAgIHsKICAiYnViYmxpbmdNb3VzZUV2ZW50cyI6IHRydWUsCiAgImNvbG9yIjogInJlZCIsCiAgImRhc2hBcnJheSI6IG51bGwsCiAgImRhc2hPZmZzZXQiOiBudWxsLAogICJmaWxsIjogdHJ1ZSwKICAiZmlsbENvbG9yIjogInJlZCIsCiAgImZpbGxPcGFjaXR5IjogMC4yLAogICJmaWxsUnVsZSI6ICJldmVub2RkIiwKICAibGluZUNhcCI6ICJyb3VuZCIsCiAgImxpbmVKb2luIjogInJvdW5kIiwKICAib3BhY2l0eSI6IDEuMCwKICAicmFkaXVzIjogNTE3NjguMCwKICAic3Ryb2tlIjogdHJ1ZSwKICAid2VpZ2h0IjogMwp9CiAgICAgICAgICAgICAgICApCiAgICAgICAgICAgICAgICAuYWRkVG8obWFwX2Y4MTkyOGYyNzRkMjQ5NmY5N2EzMzJhZWE4MTM1MTM1KTsKICAgICAgICAgICAgCiAgICAKICAgICAgICAgICAgdmFyIHBvcHVwXzY3MmRiMzExYjJlMjQyN2M5ZDljMDU1YmRhMGJjNzQxID0gTC5wb3B1cCh7bWF4V2lkdGg6ICcxMDAlJwogICAgICAgICAgICAKICAgICAgICAgICAgfSk7CgogICAgICAgICAgICAKICAgICAgICAgICAgICAgIHZhciBodG1sXzhlZjExZDkyMTAxYTRhNDdhNTUyMWMxOGUyZmZhNTgyID0gJChgPGRpdiBpZD0iaHRtbF84ZWYxMWQ5MjEwMWE0YTQ3YTU1MjFjMThlMmZmYTU4MiIgc3R5bGU9IndpZHRoOiAxMDAuMCU7IGhlaWdodDogMTAwLjAlOyI+T2Rpc2hhICAxMDM1MzYgIG9uIDMxLzA4LzIwMjAgMjA6MTY6Mjc8L2Rpdj5gKVswXTsKICAgICAgICAgICAgICAgIHBvcHVwXzY3MmRiMzExYjJlMjQyN2M5ZDljMDU1YmRhMGJjNzQxLnNldENvbnRlbnQoaHRtbF84ZWYxMWQ5MjEwMWE0YTQ3YTU1MjFjMThlMmZmYTU4Mik7CiAgICAgICAgICAgIAoKICAgICAgICAgICAgY2lyY2xlXzM3MGFiNjY0ZDc5ZjRjNTc4YTE1NWE0OTljMTA2NGY1LmJpbmRQb3B1cChwb3B1cF82NzJkYjMxMWIyZTI0MjdjOWQ5YzA1NWJkYTBiYzc0MSkKICAgICAgICAgICAgOwoKICAgICAgICAgICAgCiAgICAgICAgCiAgICAKCiAgICAgICAgICAgIHZhciBjaXJjbGVfYzFiYjUwZGI4ZTUwNDNiNGJiYTMzNDljZGY5NDBhYTYgPSBMLmNpcmNsZSgKICAgICAgICAgICAgICAgIFsyOS4wNTg4LCA3Ni4wODU2XSwKICAgICAgICAgICAgICAgIHsKICAiYnViYmxpbmdNb3VzZUV2ZW50cyI6IHRydWUsCiAgImNvbG9yIjogInJlZCIsCiAgImRhc2hBcnJheSI6IG51bGwsCiAgImRhc2hPZmZzZXQiOiBudWxsLAogICJmaWxsIjogdHJ1ZSwKICAiZmlsbENvbG9yIjogInJlZCIsCiAgImZpbGxPcGFjaXR5IjogMC4yLAogICJmaWxsUnVsZSI6ICJldmVub2RkIiwKICAibGluZUNhcCI6ICJyb3VuZCIsCiAgImxpbmVKb2luIjogInJvdW5kIiwKICAib3BhY2l0eSI6IDEuMCwKICAicmFkaXVzIjogMzIzNjYuMCwKICAic3Ryb2tlIjogdHJ1ZSwKICAid2VpZ2h0IjogMwp9CiAgICAgICAgICAgICAgICApCiAgICAgICAgICAgICAgICAuYWRkVG8obWFwX2Y4MTkyOGYyNzRkMjQ5NmY5N2EzMzJhZWE4MTM1MTM1KTsKICAgICAgICAgICAgCiAgICAKICAgICAgICAgICAgdmFyIHBvcHVwXzk4ZjJlZjJmYmMzZTRiZWY4MWE1NzRkZWU2MTYyNjhlID0gTC5wb3B1cCh7bWF4V2lkdGg6ICcxMDAlJwogICAgICAgICAgICAKICAgICAgICAgICAgfSk7CgogICAgICAgICAgICAKICAgICAgICAgICAgICAgIHZhciBodG1sX2I1MTczNTM3NzdmMjRjNGI5ZDI1NzRmM2MzYTk2ODFlID0gJChgPGRpdiBpZD0iaHRtbF9iNTE3MzUzNzc3ZjI0YzRiOWQyNTc0ZjNjM2E5NjgxZSIgc3R5bGU9IndpZHRoOiAxMDAuMCU7IGhlaWdodDogMTAwLjAlOyI+SGFyeWFuYSAgNjQ3MzIgIG9uIDMxLzA4LzIwMjAgMjA6MzI6MzE8L2Rpdj5gKVswXTsKICAgICAgICAgICAgICAgIHBvcHVwXzk4ZjJlZjJmYmMzZTRiZWY4MWE1NzRkZWU2MTYyNjhlLnNldENvbnRlbnQoaHRtbF9iNTE3MzUzNzc3ZjI0YzRiOWQyNTc0ZjNjM2E5NjgxZSk7CiAgICAgICAgICAgIAoKICAgICAgICAgICAgY2lyY2xlX2MxYmI1MGRiOGU1MDQzYjRiYmEzMzQ5Y2RmOTQwYWE2LmJpbmRQb3B1cChwb3B1cF85OGYyZWYyZmJjM2U0YmVmODFhNTc0ZGVlNjE2MjY4ZSkKICAgICAgICAgICAgOwoKICAgICAgICAgICAgCiAgICAgICAgCiAgICAKCiAgICAgICAgICAgIHZhciBjaXJjbGVfNDAxN2UxNDk0MjYyNDcwOThhNjQ3ZDg2YTJmNTg0ZmUgPSBMLmNpcmNsZSgKICAgICAgICAgICAgICAgIFsyMi45NzM0LCA3OC42NTY5XSwKICAgICAgICAgICAgICAgIHsKICAiYnViYmxpbmdNb3VzZUV2ZW50cyI6IHRydWUsCiAgImNvbG9yIjogInJlZCIsCiAgImRhc2hBcnJheSI6IG51bGwsCiAgImRhc2hPZmZzZXQiOiBudWxsLAogICJmaWxsIjogdHJ1ZSwKICAiZmlsbENvbG9yIjogInJlZCIsCiAgImZpbGxPcGFjaXR5IjogMC4yLAogICJmaWxsUnVsZSI6ICJldmVub2RkIiwKICAibGluZUNhcCI6ICJyb3VuZCIsCiAgImxpbmVKb2luIjogInJvdW5kIiwKICAib3BhY2l0eSI6IDEuMCwKICAicmFkaXVzIjogMzE5ODIuNSwKICAic3Ryb2tlIjogdHJ1ZSwKICAid2VpZ2h0IjogMwp9CiAgICAgICAgICAgICAgICApCiAgICAgICAgICAgICAgICAuYWRkVG8obWFwX2Y4MTkyOGYyNzRkMjQ5NmY5N2EzMzJhZWE4MTM1MTM1KTsKICAgICAgICAgICAgCiAgICAKICAgICAgICAgICAgdmFyIHBvcHVwXzAwNGY0MGY1NWQ3YTRkNmNhZTc0YzNjM2Q4ZTIxZjRjID0gTC5wb3B1cCh7bWF4V2lkdGg6ICcxMDAlJwogICAgICAgICAgICAKICAgICAgICAgICAgfSk7CgogICAgICAgICAgICAKICAgICAgICAgICAgICAgIHZhciBodG1sX2QxOGQzYTgyNzQ3YjRjOWFhZjM5YTU0MTY5ZmZkNDY4ID0gJChgPGRpdiBpZD0iaHRtbF9kMThkM2E4Mjc0N2I0YzlhYWYzOWE1NDE2OWZmZDQ2OCIgc3R5bGU9IndpZHRoOiAxMDAuMCU7IGhlaWdodDogMTAwLjAlOyI+TWFkaHlhIFByYWRlc2ggIDYzOTY1ICBvbiAzMS8wOC8yMDIwIDIxOjM5OjM2PC9kaXY+YClbMF07CiAgICAgICAgICAgICAgICBwb3B1cF8wMDRmNDBmNTVkN2E0ZDZjYWU3NGMzYzNkOGUyMWY0Yy5zZXRDb250ZW50KGh0bWxfZDE4ZDNhODI3NDdiNGM5YWFmMzlhNTQxNjlmZmQ0NjgpOwogICAgICAgICAgICAKCiAgICAgICAgICAgIGNpcmNsZV80MDE3ZTE0OTQyNjI0NzA5OGE2NDdkODZhMmY1ODRmZS5iaW5kUG9wdXAocG9wdXBfMDA0ZjQwZjU1ZDdhNGQ2Y2FlNzRjM2MzZDhlMjFmNGMpCiAgICAgICAgICAgIDsKCiAgICAgICAgICAgIAogICAgICAgIAogICAgCgogICAgICAgICAgICB2YXIgY2lyY2xlX2NmMzFiODI1MDJlYjRjNDg4OWVlMWJhZTRjY2E4ODU2ID0gTC5jaXJjbGUoCiAgICAgICAgICAgICAgICBbMTAuODUwNSwgNzYuMjcxMV0sCiAgICAgICAgICAgICAgICB7CiAgImJ1YmJsaW5nTW91c2VFdmVudHMiOiB0cnVlLAogICJjb2xvciI6ICJyZWQiLAogICJkYXNoQXJyYXkiOiBudWxsLAogICJkYXNoT2Zmc2V0IjogbnVsbCwKICAiZmlsbCI6IHRydWUsCiAgImZpbGxDb2xvciI6ICJyZWQiLAogICJmaWxsT3BhY2l0eSI6IDAuMiwKICAiZmlsbFJ1bGUiOiAiZXZlbm9kZCIsCiAgImxpbmVDYXAiOiAicm91bmQiLAogICJsaW5lSm9pbiI6ICJyb3VuZCIsCiAgIm9wYWNpdHkiOiAxLjAsCiAgInJhZGl1cyI6IDM3NjkyLjUsCiAgInN0cm9rZSI6IHRydWUsCiAgIndlaWdodCI6IDMKfQogICAgICAgICAgICAgICAgKQogICAgICAgICAgICAgICAgLmFkZFRvKG1hcF9mODE5MjhmMjc0ZDI0OTZmOTdhMzMyYWVhODEzNTEzNSk7CiAgICAgICAgICAgIAogICAgCiAgICAgICAgICAgIHZhciBwb3B1cF82NmJmYzRkNTBmYTc0OTY5YmVkNjhhZTZlNjBlNGM0ZCA9IEwucG9wdXAoe21heFdpZHRoOiAnMTAwJScKICAgICAgICAgICAgCiAgICAgICAgICAgIH0pOwoKICAgICAgICAgICAgCiAgICAgICAgICAgICAgICB2YXIgaHRtbF8wNGU3ODBlMWE4MjA0MjQ4OTk4MzZiMzUwNDNhYTljMiA9ICQoYDxkaXYgaWQ9Imh0bWxfMDRlNzgwZTFhODIwNDI0ODk5ODM2YjM1MDQzYWE5YzIiIHN0eWxlPSJ3aWR0aDogMTAwLjAlOyBoZWlnaHQ6IDEwMC4wJTsiPktlcmFsYSAgNzUzODUgIG9uIDMxLzA4LzIwMjAgMjA6MzI6MzM8L2Rpdj5gKVswXTsKICAgICAgICAgICAgICAgIHBvcHVwXzY2YmZjNGQ1MGZhNzQ5NjliZWQ2OGFlNmU2MGU0YzRkLnNldENvbnRlbnQoaHRtbF8wNGU3ODBlMWE4MjA0MjQ4OTk4MzZiMzUwNDNhYTljMik7CiAgICAgICAgICAgIAoKICAgICAgICAgICAgY2lyY2xlX2NmMzFiODI1MDJlYjRjNDg4OWVlMWJhZTRjY2E4ODU2LmJpbmRQb3B1cChwb3B1cF82NmJmYzRkNTBmYTc0OTY5YmVkNjhhZTZlNjBlNGM0ZCkKICAgICAgICAgICAgOwoKICAgICAgICAgICAgCiAgICAgICAgCiAgICAKCiAgICAgICAgICAgIHZhciBjaXJjbGVfMDA5MWUyNDlhYTZiNDU3MzhkOTljNTE5ZWVhOTE5ZWMgPSBMLmNpcmNsZSgKICAgICAgICAgICAgICAgIFszMS4xNDcxLCA3NS4zNDEyXSwKICAgICAgICAgICAgICAgIHsKICAiYnViYmxpbmdNb3VzZUV2ZW50cyI6IHRydWUsCiAgImNvbG9yIjogInJlZCIsCiAgImRhc2hBcnJheSI6IG51bGwsCiAgImRhc2hPZmZzZXQiOiBudWxsLAogICJmaWxsIjogdHJ1ZSwKICAiZmlsbENvbG9yIjogInJlZCIsCiAgImZpbGxPcGFjaXR5IjogMC4yLAogICJmaWxsUnVsZSI6ICJldmVub2RkIiwKICAibGluZUNhcCI6ICJyb3VuZCIsCiAgImxpbmVKb2luIjogInJvdW5kIiwKICAib3BhY2l0eSI6IDEuMCwKICAicmFkaXVzIjogMjY5OTYuMCwKICAic3Ryb2tlIjogdHJ1ZSwKICAid2VpZ2h0IjogMwp9CiAgICAgICAgICAgICAgICApCiAgICAgICAgICAgICAgICAuYWRkVG8obWFwX2Y4MTkyOGYyNzRkMjQ5NmY5N2EzMzJhZWE4MTM1MTM1KTsKICAgICAgICAgICAgCiAgICAKICAgICAgICAgICAgdmFyIHBvcHVwXzYzMzA1Yzg0NWYyMjRiZmY5YzgxNDE0NzZhZTJjNDc2ID0gTC5wb3B1cCh7bWF4V2lkdGg6ICcxMDAlJwogICAgICAgICAgICAKICAgICAgICAgICAgfSk7CgogICAgICAgICAgICAKICAgICAgICAgICAgICAgIHZhciBodG1sXzAwMmUxODZlYmUxYjQ1NWI4N2UzNTE3ODBkZjhiMzUyID0gJChgPGRpdiBpZD0iaHRtbF8wMDJlMTg2ZWJlMWI0NTViODdlMzUxNzgwZGY4YjM1MiIgc3R5bGU9IndpZHRoOiAxMDAuMCU7IGhlaWdodDogMTAwLjAlOyI+UHVuamFiICA1Mzk5MiAgb24gMzEvMDgvMjAyMCAyMDozMjozNzwvZGl2PmApWzBdOwogICAgICAgICAgICAgICAgcG9wdXBfNjMzMDVjODQ1ZjIyNGJmZjljODE0MTQ3NmFlMmM0NzYuc2V0Q29udGVudChodG1sXzAwMmUxODZlYmUxYjQ1NWI4N2UzNTE3ODBkZjhiMzUyKTsKICAgICAgICAgICAgCgogICAgICAgICAgICBjaXJjbGVfMDA5MWUyNDlhYTZiNDU3MzhkOTljNTE5ZWVhOTE5ZWMuYmluZFBvcHVwKHBvcHVwXzYzMzA1Yzg0NWYyMjRiZmY5YzgxNDE0NzZhZTJjNDc2KQogICAgICAgICAgICA7CgogICAgICAgICAgICAKICAgICAgICAKICAgIAoKICAgICAgICAgICAgdmFyIGNpcmNsZV80YmZkYmFjMjY4NDA0NGZmYmU1NTI5Nzc3ZTg5M2ZiZSA9IEwuY2lyY2xlKAogICAgICAgICAgICAgICAgWzMzLjc3ODIsIDc2LjU3NjJdLAogICAgICAgICAgICAgICAgewogICJidWJibGluZ01vdXNlRXZlbnRzIjogdHJ1ZSwKICAiY29sb3IiOiAicmVkIiwKICAiZGFzaEFycmF5IjogbnVsbCwKICAiZGFzaE9mZnNldCI6IG51bGwsCiAgImZpbGwiOiB0cnVlLAogICJmaWxsQ29sb3IiOiAicmVkIiwKICAiZmlsbE9wYWNpdHkiOiAwLjIsCiAgImZpbGxSdWxlIjogImV2ZW5vZGQiLAogICJsaW5lQ2FwIjogInJvdW5kIiwKICAibGluZUpvaW4iOiAicm91bmQiLAogICJvcGFjaXR5IjogMS4wLAogICJyYWRpdXMiOiAxODg0OS4wLAogICJzdHJva2UiOiB0cnVlLAogICJ3ZWlnaHQiOiAzCn0KICAgICAgICAgICAgICAgICkKICAgICAgICAgICAgICAgIC5hZGRUbyhtYXBfZjgxOTI4ZjI3NGQyNDk2Zjk3YTMzMmFlYTgxMzUxMzUpOwogICAgICAgICAgICAKICAgIAogICAgICAgICAgICB2YXIgcG9wdXBfNWQ0OGUxMjA1OWE5NDI1OWI3Nzc0ZjE0OTM1NmVhMGEgPSBMLnBvcHVwKHttYXhXaWR0aDogJzEwMCUnCiAgICAgICAgICAgIAogICAgICAgICAgICB9KTsKCiAgICAgICAgICAgIAogICAgICAgICAgICAgICAgdmFyIGh0bWxfODA2YjE2MDY5MGFiNGZhMGIyMjkxZjljY2RmZjdiYjIgPSAkKGA8ZGl2IGlkPSJodG1sXzgwNmIxNjA2OTBhYjRmYTBiMjI5MWY5Y2NkZmY3YmIyIiBzdHlsZT0id2lkdGg6IDEwMC4wJTsgaGVpZ2h0OiAxMDAuMCU7Ij5KYW1tdSBhbmQgS2FzaG1pciAgMzc2OTggIG9uIDMxLzA4LzIwMjAgMTg6MzA6Mjk8L2Rpdj5gKVswXTsKICAgICAgICAgICAgICAgIHBvcHVwXzVkNDhlMTIwNTlhOTQyNTliNzc3NGYxNDkzNTZlYTBhLnNldENvbnRlbnQoaHRtbF84MDZiMTYwNjkwYWI0ZmEwYjIyOTFmOWNjZGZmN2JiMik7CiAgICAgICAgICAgIAoKICAgICAgICAgICAgY2lyY2xlXzRiZmRiYWMyNjg0MDQ0ZmZiZTU1Mjk3NzdlODkzZmJlLmJpbmRQb3B1cChwb3B1cF81ZDQ4ZTEyMDU5YTk0MjU5Yjc3NzRmMTQ5MzU2ZWEwYSkKICAgICAgICAgICAgOwoKICAgICAgICAgICAgCiAgICAgICAgCiAgICAKCiAgICAgICAgICAgIHZhciBjaXJjbGVfOTQzY2U5MzY3MDQzNGMyZTkwYThlMzM5MjliNGE0M2YgPSBMLmNpcmNsZSgKICAgICAgICAgICAgICAgIFsyMy42MTAyLCA4NS4yNzk5XSwKICAgICAgICAgICAgICAgIHsKICAiYnViYmxpbmdNb3VzZUV2ZW50cyI6IHRydWUsCiAgImNvbG9yIjogInJlZCIsCiAgImRhc2hBcnJheSI6IG51bGwsCiAgImRhc2hPZmZzZXQiOiBudWxsLAogICJmaWxsIjogdHJ1ZSwKICAiZmlsbENvbG9yIjogInJlZCIsCiAgImZpbGxPcGFjaXR5IjogMC4yLAogICJmaWxsUnVsZSI6ICJldmVub2RkIiwKICAibGluZUNhcCI6ICJyb3VuZCIsCiAgImxpbmVKb2luIjogInJvdW5kIiwKICAib3BhY2l0eSI6IDEuMCwKICAicmFkaXVzIjogMTkyMTcuNSwKICAic3Ryb2tlIjogdHJ1ZSwKICAid2VpZ2h0IjogMwp9CiAgICAgICAgICAgICAgICApCiAgICAgICAgICAgICAgICAuYWRkVG8obWFwX2Y4MTkyOGYyNzRkMjQ5NmY5N2EzMzJhZWE4MTM1MTM1KTsKICAgICAgICAgICAgCiAgICAKICAgICAgICAgICAgdmFyIHBvcHVwX2RkNGQxMmQyMTUwMTRhZTI5MmNiOTAwZTZkNjk4OWNhID0gTC5wb3B1cCh7bWF4V2lkdGg6ICcxMDAlJwogICAgICAgICAgICAKICAgICAgICAgICAgfSk7CgogICAgICAgICAgICAKICAgICAgICAgICAgICAgIHZhciBodG1sXzNmYTI3NDM5MjI4MzQ1NWE4NTZhNWI4ODhhODFlZDFkID0gJChgPGRpdiBpZD0iaHRtbF8zZmEyNzQzOTIyODM0NTVhODU2YTViODg4YTgxZWQxZCIgc3R5bGU9IndpZHRoOiAxMDAuMCU7IGhlaWdodDogMTAwLjAlOyI+SmhhcmtoYW5kICAzODQzNSAgb24gMzAvMDgvMjAyMCAyMzoxNDoxOTwvZGl2PmApWzBdOwogICAgICAgICAgICAgICAgcG9wdXBfZGQ0ZDEyZDIxNTAxNGFlMjkyY2I5MDBlNmQ2OTg5Y2Euc2V0Q29udGVudChodG1sXzNmYTI3NDM5MjI4MzQ1NWE4NTZhNWI4ODhhODFlZDFkKTsKICAgICAgICAgICAgCgogICAgICAgICAgICBjaXJjbGVfOTQzY2U5MzY3MDQzNGMyZTkwYThlMzM5MjliNGE0M2YuYmluZFBvcHVwKHBvcHVwX2RkNGQxMmQyMTUwMTRhZTI5MmNiOTAwZTZkNjk4OWNhKQogICAgICAgICAgICA7CgogICAgICAgICAgICAKICAgICAgICAKICAgIAoKICAgICAgICAgICAgdmFyIGNpcmNsZV9iOWI5ZTUzYmI0MWI0OWQ0ODAxMTYzZmQ1MTBjYmVhOCA9IEwuY2lyY2xlKAogICAgICAgICAgICAgICAgWzIxLjI3ODcsIDgxLjg2NjFdLAogICAgICAgICAgICAgICAgewogICJidWJibGluZ01vdXNlRXZlbnRzIjogdHJ1ZSwKICAiY29sb3IiOiAicmVkIiwKICAiZGFzaEFycmF5IjogbnVsbCwKICAiZGFzaE9mZnNldCI6IG51bGwsCiAgImZpbGwiOiB0cnVlLAogICJmaWxsQ29sb3IiOiAicmVkIiwKICAiZmlsbE9wYWNpdHkiOiAwLjIsCiAgImZpbGxSdWxlIjogImV2ZW5vZGQiLAogICJsaW5lQ2FwIjogInJvdW5kIiwKICAibGluZUpvaW4iOiAicm91bmQiLAogICJvcGFjaXR5IjogMS4wLAogICJyYWRpdXMiOiAxNTU5Ny41LAogICJzdHJva2UiOiB0cnVlLAogICJ3ZWlnaHQiOiAzCn0KICAgICAgICAgICAgICAgICkKICAgICAgICAgICAgICAgIC5hZGRUbyhtYXBfZjgxOTI4ZjI3NGQyNDk2Zjk3YTMzMmFlYTgxMzUxMzUpOwogICAgICAgICAgICAKICAgIAogICAgICAgICAgICB2YXIgcG9wdXBfYjgyOTljNDAwNDAxNDg2Yzk0NGY2NGViNWRlNDdiNDcgPSBMLnBvcHVwKHttYXhXaWR0aDogJzEwMCUnCiAgICAgICAgICAgIAogICAgICAgICAgICB9KTsKCiAgICAgICAgICAgIAogICAgICAgICAgICAgICAgdmFyIGh0bWxfMWE0N2EwOGQwMTExNGZjN2FiM2Y3OTM3YjRiZmVkMzEgPSAkKGA8ZGl2IGlkPSJodG1sXzFhNDdhMDhkMDExMTRmYzdhYjNmNzkzN2I0YmZlZDMxIiBzdHlsZT0id2lkdGg6IDEwMC4wJTsgaGVpZ2h0OiAxMDAuMCU7Ij5DaGhhdHRpc2dhcmggIDMxMTk1ICBvbiAzMS8wOC8yMDIwIDIxOjM5OjM4PC9kaXY+YClbMF07CiAgICAgICAgICAgICAgICBwb3B1cF9iODI5OWM0MDA0MDE0ODZjOTQ0ZjY0ZWI1ZGU0N2I0Ny5zZXRDb250ZW50KGh0bWxfMWE0N2EwOGQwMTExNGZjN2FiM2Y3OTM3YjRiZmVkMzEpOwogICAgICAgICAgICAKCiAgICAgICAgICAgIGNpcmNsZV9iOWI5ZTUzYmI0MWI0OWQ0ODAxMTYzZmQ1MTBjYmVhOC5iaW5kUG9wdXAocG9wdXBfYjgyOTljNDAwNDAxNDg2Yzk0NGY2NGViNWRlNDdiNDcpCiAgICAgICAgICAgIDsKCiAgICAgICAgICAgIAogICAgICAgIAogICAgCgogICAgICAgICAgICB2YXIgY2lyY2xlXzRmMDRkYmNiNDUzZTQyY2ZiNmQxODk2YjA0MjgwYWUxID0gTC5jaXJjbGUoCiAgICAgICAgICAgICAgICBbMzAuMDY2OCwgNzkuMDE5M10sCiAgICAgICAgICAgICAgICB7CiAgImJ1YmJsaW5nTW91c2VFdmVudHMiOiB0cnVlLAogICJjb2xvciI6ICJyZWQiLAogICJkYXNoQXJyYXkiOiBudWxsLAogICJkYXNoT2Zmc2V0IjogbnVsbCwKICAiZmlsbCI6IHRydWUsCiAgImZpbGxDb2xvciI6ICJyZWQiLAogICJmaWxsT3BhY2l0eSI6IDAuMiwKICAiZmlsbFJ1bGUiOiAiZXZlbm9kZCIsCiAgImxpbmVDYXAiOiAicm91bmQiLAogICJsaW5lSm9pbiI6ICJyb3VuZCIsCiAgIm9wYWNpdHkiOiAxLjAsCiAgInJhZGl1cyI6IDk2MTcuNSwKICAic3Ryb2tlIjogdHJ1ZSwKICAid2VpZ2h0IjogMwp9CiAgICAgICAgICAgICAgICApCiAgICAgICAgICAgICAgICAuYWRkVG8obWFwX2Y4MTkyOGYyNzRkMjQ5NmY5N2EzMzJhZWE4MTM1MTM1KTsKICAgICAgICAgICAgCiAgICAKICAgICAgICAgICAgdmFyIHBvcHVwX2QwMjhhNWUyOTRkZjQzOGM4MmZiMzE3OTY5MmFhMzdlID0gTC5wb3B1cCh7bWF4V2lkdGg6ICcxMDAlJwogICAgICAgICAgICAKICAgICAgICAgICAgfSk7CgogICAgICAgICAgICAKICAgICAgICAgICAgICAgIHZhciBodG1sX2Y0NjRhZjM0NjBkMTQ2Y2JiYTU0YmJlYzlmMjcwMTc1ID0gJChgPGRpdiBpZD0iaHRtbF9mNDY0YWYzNDYwZDE0NmNiYmE1NGJiZWM5ZjI3MDE3NSIgc3R5bGU9IndpZHRoOiAxMDAuMCU7IGhlaWdodDogMTAwLjAlOyI+VXR0YXJha2hhbmQgIDE5MjM1ICBvbiAzMC8wOC8yMDIwIDIyOjA4OjI3PC9kaXY+YClbMF07CiAgICAgICAgICAgICAgICBwb3B1cF9kMDI4YTVlMjk0ZGY0MzhjODJmYjMxNzk2OTJhYTM3ZS5zZXRDb250ZW50KGh0bWxfZjQ2NGFmMzQ2MGQxNDZjYmJhNTRiYmVjOWYyNzAxNzUpOwogICAgICAgICAgICAKCiAgICAgICAgICAgIGNpcmNsZV80ZjA0ZGJjYjQ1M2U0MmNmYjZkMTg5NmIwNDI4MGFlMS5iaW5kUG9wdXAocG9wdXBfZDAyOGE1ZTI5NGRmNDM4YzgyZmIzMTc5NjkyYWEzN2UpCiAgICAgICAgICAgIDsKCiAgICAgICAgICAgIAogICAgICAgIAogICAgCgogICAgICAgICAgICB2YXIgY2lyY2xlXzNmMzhiMzQ1NThiNjQ0MmI4Yjk2ODc2ZWVlYzg2NTM0ID0gTC5jaXJjbGUoCiAgICAgICAgICAgICAgICBbMTUuMjk5MywgNzQuMTI0XSwKICAgICAgICAgICAgICAgIHsKICAiYnViYmxpbmdNb3VzZUV2ZW50cyI6IHRydWUsCiAgImNvbG9yIjogInJlZCIsCiAgImRhc2hBcnJheSI6IG51bGwsCiAgImRhc2hPZmZzZXQiOiBudWxsLAogICJmaWxsIjogdHJ1ZSwKICAiZmlsbENvbG9yIjogInJlZCIsCiAgImZpbGxPcGFjaXR5IjogMC4yLAogICJmaWxsUnVsZSI6ICJldmVub2RkIiwKICAibGluZUNhcCI6ICJyb3VuZCIsCiAgImxpbmVKb2luIjogInJvdW5kIiwKICAib3BhY2l0eSI6IDEuMCwKICAicmFkaXVzIjogODcwOS4wLAogICJzdHJva2UiOiB0cnVlLAogICJ3ZWlnaHQiOiAzCn0KICAgICAgICAgICAgICAgICkKICAgICAgICAgICAgICAgIC5hZGRUbyhtYXBfZjgxOTI4ZjI3NGQyNDk2Zjk3YTMzMmFlYTgxMzUxMzUpOwogICAgICAgICAgICAKICAgIAogICAgICAgICAgICB2YXIgcG9wdXBfNzFjNDhiZWI4NzYzNGU3NGJmNzkyODgxNWMxYzc1OTAgPSBMLnBvcHVwKHttYXhXaWR0aDogJzEwMCUnCiAgICAgICAgICAgIAogICAgICAgICAgICB9KTsKCiAgICAgICAgICAgIAogICAgICAgICAgICAgICAgdmFyIGh0bWxfMWE0MDVhMGM1ZmNhNDI3NjhlMzJkODk1MGU0NjQzNmMgPSAkKGA8ZGl2IGlkPSJodG1sXzFhNDA1YTBjNWZjYTQyNzY4ZTMyZDg5NTBlNDY0MzZjIiBzdHlsZT0id2lkdGg6IDEwMC4wJTsgaGVpZ2h0OiAxMDAuMCU7Ij5Hb2EgIDE3NDE4ICBvbiAzMS8wOC8yMDIwIDIwOjMyOjQwPC9kaXY+YClbMF07CiAgICAgICAgICAgICAgICBwb3B1cF83MWM0OGJlYjg3NjM0ZTc0YmY3OTI4ODE1YzFjNzU5MC5zZXRDb250ZW50KGh0bWxfMWE0MDVhMGM1ZmNhNDI3NjhlMzJkODk1MGU0NjQzNmMpOwogICAgICAgICAgICAKCiAgICAgICAgICAgIGNpcmNsZV8zZjM4YjM0NTU4YjY0NDJiOGI5Njg3NmVlZWM4NjUzNC5iaW5kUG9wdXAocG9wdXBfNzFjNDhiZWI4NzYzNGU3NGJmNzkyODgxNWMxYzc1OTApCiAgICAgICAgICAgIDsKCiAgICAgICAgICAgIAogICAgICAgIAogICAgCgogICAgICAgICAgICB2YXIgY2lyY2xlXzQwZmQwNWZkNTRlMTQwNWVhNzBhNzQyMGM0ZDg4ZWQ0ID0gTC5jaXJjbGUoCiAgICAgICAgICAgICAgICBbMjMuOTQwOCwgOTEuOTg4Ml0sCiAgICAgICAgICAgICAgICB7CiAgImJ1YmJsaW5nTW91c2VFdmVudHMiOiB0cnVlLAogICJjb2xvciI6ICJyZWQiLAogICJkYXNoQXJyYXkiOiBudWxsLAogICJkYXNoT2Zmc2V0IjogbnVsbCwKICAiZmlsbCI6IHRydWUsCiAgImZpbGxDb2xvciI6ICJyZWQiLAogICJmaWxsT3BhY2l0eSI6IDAuMiwKICAiZmlsbFJ1bGUiOiAiZXZlbm9kZCIsCiAgImxpbmVDYXAiOiAicm91bmQiLAogICJsaW5lSm9pbiI6ICJyb3VuZCIsCiAgIm9wYWNpdHkiOiAxLjAsCiAgInJhZGl1cyI6IDU4MjIuMCwKICAic3Ryb2tlIjogdHJ1ZSwKICAid2VpZ2h0IjogMwp9CiAgICAgICAgICAgICAgICApCiAgICAgICAgICAgICAgICAuYWRkVG8obWFwX2Y4MTkyOGYyNzRkMjQ5NmY5N2EzMzJhZWE4MTM1MTM1KTsKICAgICAgICAgICAgCiAgICAKICAgICAgICAgICAgdmFyIHBvcHVwXzU1ZjIxOThjNmFmMTQ1NTk4ZmZkOWJmMGI2MjRiMGE1ID0gTC5wb3B1cCh7bWF4V2lkdGg6ICcxMDAlJwogICAgICAgICAgICAKICAgICAgICAgICAgfSk7CgogICAgICAgICAgICAKICAgICAgICAgICAgICAgIHZhciBodG1sX2RhZGI0MTFjNzc4NjRiMDZiMzgyNjU4MTJkNGQwMTRiID0gJChgPGRpdiBpZD0iaHRtbF9kYWRiNDExYzc3ODY0YjA2YjM4MjY1ODEyZDRkMDE0YiIgc3R5bGU9IndpZHRoOiAxMDAuMCU7IGhlaWdodDogMTAwLjAlOyI+VHJpcHVyYSAgMTE2NDQgIG9uIDMxLzA4LzIwMjAgMDk6Mzk6MzA8L2Rpdj5gKVswXTsKICAgICAgICAgICAgICAgIHBvcHVwXzU1ZjIxOThjNmFmMTQ1NTk4ZmZkOWJmMGI2MjRiMGE1LnNldENvbnRlbnQoaHRtbF9kYWRiNDExYzc3ODY0YjA2YjM4MjY1ODEyZDRkMDE0Yik7CiAgICAgICAgICAgIAoKICAgICAgICAgICAgY2lyY2xlXzQwZmQwNWZkNTRlMTQwNWVhNzBhNzQyMGM0ZDg4ZWQ0LmJpbmRQb3B1cChwb3B1cF81NWYyMTk4YzZhZjE0NTU5OGZmZDliZjBiNjI0YjBhNSkKICAgICAgICAgICAgOwoKICAgICAgICAgICAgCiAgICAgICAgCiAgICAKCiAgICAgICAgICAgIHZhciBjaXJjbGVfOGQ2Nzk2MjQwZmI0NDg2OGJkNzA4MTg4NTkwMDhiYWUgPSBMLmNpcmNsZSgKICAgICAgICAgICAgICAgIFsxMS45NDE2LCA3OS44MDgzXSwKICAgICAgICAgICAgICAgIHsKICAiYnViYmxpbmdNb3VzZUV2ZW50cyI6IHRydWUsCiAgImNvbG9yIjogInJlZCIsCiAgImRhc2hBcnJheSI6IG51bGwsCiAgImRhc2hPZmZzZXQiOiBudWxsLAogICJmaWxsIjogdHJ1ZSwKICAiZmlsbENvbG9yIjogInJlZCIsCiAgImZpbGxPcGFjaXR5IjogMC4yLAogICJmaWxsUnVsZSI6ICJldmVub2RkIiwKICAibGluZUNhcCI6ICJyb3VuZCIsCiAgImxpbmVKb2luIjogInJvdW5kIiwKICAib3BhY2l0eSI6IDEuMCwKICAicmFkaXVzIjogNzIwNS41LAogICJzdHJva2UiOiB0cnVlLAogICJ3ZWlnaHQiOiAzCn0KICAgICAgICAgICAgICAgICkKICAgICAgICAgICAgICAgIC5hZGRUbyhtYXBfZjgxOTI4ZjI3NGQyNDk2Zjk3YTMzMmFlYTgxMzUxMzUpOwogICAgICAgICAgICAKICAgIAogICAgICAgICAgICB2YXIgcG9wdXBfMzc4ZjI1ODRmNmE0NDMyMDliOGFmYTI2YWRlOTQ4NTAgPSBMLnBvcHVwKHttYXhXaWR0aDogJzEwMCUnCiAgICAgICAgICAgIAogICAgICAgICAgICB9KTsKCiAgICAgICAgICAgIAogICAgICAgICAgICAgICAgdmFyIGh0bWxfOTllNmY2NDE5OWNkNDRjMDk1NzA4ZTUzNTRlMmQ5ZGMgPSAkKGA8ZGl2IGlkPSJodG1sXzk5ZTZmNjQxOTljZDQ0YzA5NTcwOGU1MzU0ZTJkOWRjIiBzdHlsZT0id2lkdGg6IDEwMC4wJTsgaGVpZ2h0OiAxMDAuMCU7Ij5QdWR1Y2hlcnJ5ICAxNDQxMSAgb24gMzEvMDgvMjAyMCAxODoxOToyODwvZGl2PmApWzBdOwogICAgICAgICAgICAgICAgcG9wdXBfMzc4ZjI1ODRmNmE0NDMyMDliOGFmYTI2YWRlOTQ4NTAuc2V0Q29udGVudChodG1sXzk5ZTZmNjQxOTljZDQ0YzA5NTcwOGU1MzU0ZTJkOWRjKTsKICAgICAgICAgICAgCgogICAgICAgICAgICBjaXJjbGVfOGQ2Nzk2MjQwZmI0NDg2OGJkNzA4MTg4NTkwMDhiYWUuYmluZFBvcHVwKHBvcHVwXzM3OGYyNTg0ZjZhNDQzMjA5YjhhZmEyNmFkZTk0ODUwKQogICAgICAgICAgICA7CgogICAgICAgICAgICAKICAgICAgICAKICAgIAoKICAgICAgICAgICAgdmFyIGNpcmNsZV8wZDQ2OGUzMGU4YTc0MTVlOWVmM2M1MzBlYzAzYTg4ZiA9IEwuY2lyY2xlKAogICAgICAgICAgICAgICAgWzI0LjY2MzcsIDkzLjkwNjNdLAogICAgICAgICAgICAgICAgewogICJidWJibGluZ01vdXNlRXZlbnRzIjogdHJ1ZSwKICAiY29sb3IiOiAicmVkIiwKICAiZGFzaEFycmF5IjogbnVsbCwKICAiZGFzaE9mZnNldCI6IG51bGwsCiAgImZpbGwiOiB0cnVlLAogICJmaWxsQ29sb3IiOiAicmVkIiwKICAiZmlsbE9wYWNpdHkiOiAwLjIsCiAgImZpbGxSdWxlIjogImV2ZW5vZGQiLAogICJsaW5lQ2FwIjogInJvdW5kIiwKICAibGluZUpvaW4iOiAicm91bmQiLAogICJvcGFjaXR5IjogMS4wLAogICJyYWRpdXMiOiAzMTI2LjAsCiAgInN0cm9rZSI6IHRydWUsCiAgIndlaWdodCI6IDMKfQogICAgICAgICAgICAgICAgKQogICAgICAgICAgICAgICAgLmFkZFRvKG1hcF9mODE5MjhmMjc0ZDI0OTZmOTdhMzMyYWVhODEzNTEzNSk7CiAgICAgICAgICAgIAogICAgCiAgICAgICAgICAgIHZhciBwb3B1cF85ZjczNmM5NTBiMzE0OWNmOTIwNzhhNTI2MDA4MjY5YiA9IEwucG9wdXAoe21heFdpZHRoOiAnMTAwJScKICAgICAgICAgICAgCiAgICAgICAgICAgIH0pOwoKICAgICAgICAgICAgCiAgICAgICAgICAgICAgICB2YXIgaHRtbF8xZWYzZDI0ZDdkYmU0MzM2YjgxNjYzZjFhN2U5YTEzYiA9ICQoYDxkaXYgaWQ9Imh0bWxfMWVmM2QyNGQ3ZGJlNDMzNmI4MTY2M2YxYTdlOWExM2IiIHN0eWxlPSJ3aWR0aDogMTAwLjAlOyBoZWlnaHQ6IDEwMC4wJTsiPk1hbmlwdXIgIDYyNTIgIG9uIDMxLzA4LzIwMjAgMjE6Mzk6NDE8L2Rpdj5gKVswXTsKICAgICAgICAgICAgICAgIHBvcHVwXzlmNzM2Yzk1MGIzMTQ5Y2Y5MjA3OGE1MjYwMDgyNjliLnNldENvbnRlbnQoaHRtbF8xZWYzZDI0ZDdkYmU0MzM2YjgxNjYzZjFhN2U5YTEzYik7CiAgICAgICAgICAgIAoKICAgICAgICAgICAgY2lyY2xlXzBkNDY4ZTMwZThhNzQxNWU5ZWYzYzUzMGVjMDNhODhmLmJpbmRQb3B1cChwb3B1cF85ZjczNmM5NTBiMzE0OWNmOTIwNzhhNTI2MDA4MjY5YikKICAgICAgICAgICAgOwoKICAgICAgICAgICAgCiAgICAgICAgCiAgICAKCiAgICAgICAgICAgIHZhciBjaXJjbGVfZjFmNjU2NDcxYjVhNGJlOGE2MTI1NDQ5NzVjMWZjODUgPSBMLmNpcmNsZSgKICAgICAgICAgICAgICAgIFszMS4xMDQ4LCA3Ny4xNzM0XSwKICAgICAgICAgICAgICAgIHsKICAiYnViYmxpbmdNb3VzZUV2ZW50cyI6IHRydWUsCiAgImNvbG9yIjogInJlZCIsCiAgImRhc2hBcnJheSI6IG51bGwsCiAgImRhc2hPZmZzZXQiOiBudWxsLAogICJmaWxsIjogdHJ1ZSwKICAiZmlsbENvbG9yIjogInJlZCIsCiAgImZpbGxPcGFjaXR5IjogMC4yLAogICJmaWxsUnVsZSI6ICJldmVub2RkIiwKICAibGluZUNhcCI6ICJyb3VuZCIsCiAgImxpbmVKb2luIjogInJvdW5kIiwKICAib3BhY2l0eSI6IDEuMCwKICAicmFkaXVzIjogMjk3Mi41LAogICJzdHJva2UiOiB0cnVlLAogICJ3ZWlnaHQiOiAzCn0KICAgICAgICAgICAgICAgICkKICAgICAgICAgICAgICAgIC5hZGRUbyhtYXBfZjgxOTI4ZjI3NGQyNDk2Zjk3YTMzMmFlYTgxMzUxMzUpOwogICAgICAgICAgICAKICAgIAogICAgICAgICAgICB2YXIgcG9wdXBfYjc3YWVjNzcxOTEyNGRlOWE1NTcyYjEzOWM2ZGJhNDkgPSBMLnBvcHVwKHttYXhXaWR0aDogJzEwMCUnCiAgICAgICAgICAgIAogICAgICAgICAgICB9KTsKCiAgICAgICAgICAgIAogICAgICAgICAgICAgICAgdmFyIGh0bWxfODY5ZTY2MzJiYTg0NGM1NzgyZDg2NzQ2ZWU0Y2NiZTYgPSAkKGA8ZGl2IGlkPSJodG1sXzg2OWU2NjMyYmE4NDRjNTc4MmQ4Njc0NmVlNGNjYmU2IiBzdHlsZT0id2lkdGg6IDEwMC4wJTsgaGVpZ2h0OiAxMDAuMCU7Ij5IaW1hY2hhbCBQcmFkZXNoICA1OTQ1ICBvbiAzMC8wOC8yMDIwIDIxOjUyOjI2PC9kaXY+YClbMF07CiAgICAgICAgICAgICAgICBwb3B1cF9iNzdhZWM3NzE5MTI0ZGU5YTU1NzJiMTM5YzZkYmE0OS5zZXRDb250ZW50KGh0bWxfODY5ZTY2MzJiYTg0NGM1NzgyZDg2NzQ2ZWU0Y2NiZTYpOwogICAgICAgICAgICAKCiAgICAgICAgICAgIGNpcmNsZV9mMWY2NTY0NzFiNWE0YmU4YTYxMjU0NDk3NWMxZmM4NS5iaW5kUG9wdXAocG9wdXBfYjc3YWVjNzcxOTEyNGRlOWE1NTcyYjEzOWM2ZGJhNDkpCiAgICAgICAgICAgIDsKCiAgICAgICAgICAgIAogICAgICAgIAogICAgCgogICAgICAgICAgICB2YXIgY2lyY2xlXzFlNWY5ZjA3ZGJiNTRjYzg5MTUzNzRmZTZlZjAzMmI0ID0gTC5jaXJjbGUoCiAgICAgICAgICAgICAgICBbMjYuMTU4NCwgOTQuNTYyNF0sCiAgICAgICAgICAgICAgICB7CiAgImJ1YmJsaW5nTW91c2VFdmVudHMiOiB0cnVlLAogICJjb2xvciI6ICJyZWQiLAogICJkYXNoQXJyYXkiOiBudWxsLAogICJkYXNoT2Zmc2V0IjogbnVsbCwKICAiZmlsbCI6IHRydWUsCiAgImZpbGxDb2xvciI6ICJyZWQiLAogICJmaWxsT3BhY2l0eSI6IDAuMiwKICAiZmlsbFJ1bGUiOiAiZXZlbm9kZCIsCiAgImxpbmVDYXAiOiAicm91bmQiLAogICJsaW5lSm9pbiI6ICJyb3VuZCIsCiAgIm9wYWNpdHkiOiAxLjAsCiAgInJhZGl1cyI6IDE5NzUuMCwKICAic3Ryb2tlIjogdHJ1ZSwKICAid2VpZ2h0IjogMwp9CiAgICAgICAgICAgICAgICApCiAgICAgICAgICAgICAgICAuYWRkVG8obWFwX2Y4MTkyOGYyNzRkMjQ5NmY5N2EzMzJhZWE4MTM1MTM1KTsKICAgICAgICAgICAgCiAgICAKICAgICAgICAgICAgdmFyIHBvcHVwXzUyYmZiMDliOTZhNDQ4NTA5NTg2NWNkN2Y1NGViOThhID0gTC5wb3B1cCh7bWF4V2lkdGg6ICcxMDAlJwogICAgICAgICAgICAKICAgICAgICAgICAgfSk7CgogICAgICAgICAgICAKICAgICAgICAgICAgICAgIHZhciBodG1sXzA4ZTNkZGQxYmMwYjRlYTc4ZDk4Yjc3M2RkN2E0MjFhID0gJChgPGRpdiBpZD0iaHRtbF8wOGUzZGRkMWJjMGI0ZWE3OGQ5OGI3NzNkZDdhNDIxYSIgc3R5bGU9IndpZHRoOiAxMDAuMCU7IGhlaWdodDogMTAwLjAlOyI+TmFnYWxhbmQgIDM5NTAgIG9uIDMxLzA4LzIwMjAgMTg6MTg6MzQ8L2Rpdj5gKVswXTsKICAgICAgICAgICAgICAgIHBvcHVwXzUyYmZiMDliOTZhNDQ4NTA5NTg2NWNkN2Y1NGViOThhLnNldENvbnRlbnQoaHRtbF8wOGUzZGRkMWJjMGI0ZWE3OGQ5OGI3NzNkZDdhNDIxYSk7CiAgICAgICAgICAgIAoKICAgICAgICAgICAgY2lyY2xlXzFlNWY5ZjA3ZGJiNTRjYzg5MTUzNzRmZTZlZjAzMmI0LmJpbmRQb3B1cChwb3B1cF81MmJmYjA5Yjk2YTQ0ODUwOTU4NjVjZDdmNTRlYjk4YSkKICAgICAgICAgICAgOwoKICAgICAgICAgICAgCiAgICAgICAgCiAgICAKCiAgICAgICAgICAgIHZhciBjaXJjbGVfYWNlZjI5ZDYxNDM5NGJjZGIwODg0NTI4ZDA0MDJjYmYgPSBMLmNpcmNsZSgKICAgICAgICAgICAgICAgIFsyOC4yMTgsIDk0LjcyNzhdLAogICAgICAgICAgICAgICAgewogICJidWJibGluZ01vdXNlRXZlbnRzIjogdHJ1ZSwKICAiY29sb3IiOiAicmVkIiwKICAiZGFzaEFycmF5IjogbnVsbCwKICAiZGFzaE9mZnNldCI6IG51bGwsCiAgImZpbGwiOiB0cnVlLAogICJmaWxsQ29sb3IiOiAicmVkIiwKICAiZmlsbE9wYWNpdHkiOiAwLjIsCiAgImZpbGxSdWxlIjogImV2ZW5vZGQiLAogICJsaW5lQ2FwIjogInJvdW5kIiwKICAibGluZUpvaW4iOiAicm91bmQiLAogICJvcGFjaXR5IjogMS4wLAogICJyYWRpdXMiOiAyMDE3LjAsCiAgInN0cm9rZSI6IHRydWUsCiAgIndlaWdodCI6IDMKfQogICAgICAgICAgICAgICAgKQogICAgICAgICAgICAgICAgLmFkZFRvKG1hcF9mODE5MjhmMjc0ZDI0OTZmOTdhMzMyYWVhODEzNTEzNSk7CiAgICAgICAgICAgIAogICAgCiAgICAgICAgICAgIHZhciBwb3B1cF9iNjZhMmUwMzgzODA0M2YxODVkM2E1MDY4YmU3NWEyZCA9IEwucG9wdXAoe21heFdpZHRoOiAnMTAwJScKICAgICAgICAgICAgCiAgICAgICAgICAgIH0pOwoKICAgICAgICAgICAgCiAgICAgICAgICAgICAgICB2YXIgaHRtbF81OGFmZDBmNTgyYTg0OTI0YWRjYmU1YzdiMDFlOGY0ZCA9ICQoYDxkaXYgaWQ9Imh0bWxfNThhZmQwZjU4MmE4NDkyNGFkY2JlNWM3YjAxZThmNGQiIHN0eWxlPSJ3aWR0aDogMTAwLjAlOyBoZWlnaHQ6IDEwMC4wJTsiPkFydW5hY2hhbCBQcmFkZXNoICA0MDM0ICBvbiAzMC8wOC8yMDIwIDIyOjI4OjM0PC9kaXY+YClbMF07CiAgICAgICAgICAgICAgICBwb3B1cF9iNjZhMmUwMzgzODA0M2YxODVkM2E1MDY4YmU3NWEyZC5zZXRDb250ZW50KGh0bWxfNThhZmQwZjU4MmE4NDkyNGFkY2JlNWM3YjAxZThmNGQpOwogICAgICAgICAgICAKCiAgICAgICAgICAgIGNpcmNsZV9hY2VmMjlkNjE0Mzk0YmNkYjA4ODQ1MjhkMDQwMmNiZi5iaW5kUG9wdXAocG9wdXBfYjY2YTJlMDM4MzgwNDNmMTg1ZDNhNTA2OGJlNzVhMmQpCiAgICAgICAgICAgIDsKCiAgICAgICAgICAgIAogICAgICAgIAogICAgCgogICAgICAgICAgICB2YXIgY2lyY2xlXzI4YTA2MDVkODY2NDRkMmM5ZmYxZjA5YzRhNWYwOWM4ID0gTC5jaXJjbGUoCiAgICAgICAgICAgICAgICBbMTEuNzQwMSwgOTIuNjU4Nl0sCiAgICAgICAgICAgICAgICB7CiAgImJ1YmJsaW5nTW91c2VFdmVudHMiOiB0cnVlLAogICJjb2xvciI6ICJyZWQiLAogICJkYXNoQXJyYXkiOiBudWxsLAogICJkYXNoT2Zmc2V0IjogbnVsbCwKICAiZmlsbCI6IHRydWUsCiAgImZpbGxDb2xvciI6ICJyZWQiLAogICJmaWxsT3BhY2l0eSI6IDAuMiwKICAiZmlsbFJ1bGUiOiAiZXZlbm9kZCIsCiAgImxpbmVDYXAiOiAicm91bmQiLAogICJsaW5lSm9pbiI6ICJyb3VuZCIsCiAgIm9wYWNpdHkiOiAxLjAsCiAgInJhZGl1cyI6IDE1NTIuMCwKICAic3Ryb2tlIjogdHJ1ZSwKICAid2VpZ2h0IjogMwp9CiAgICAgICAgICAgICAgICApCiAgICAgICAgICAgICAgICAuYWRkVG8obWFwX2Y4MTkyOGYyNzRkMjQ5NmY5N2EzMzJhZWE4MTM1MTM1KTsKICAgICAgICAgICAgCiAgICAKICAgICAgICAgICAgdmFyIHBvcHVwXzc4ODYyMGE5MWU4YzRlYWRhNmUxNDcyMzE2MGQ4M2E3ID0gTC5wb3B1cCh7bWF4V2lkdGg6ICcxMDAlJwogICAgICAgICAgICAKICAgICAgICAgICAgfSk7CgogICAgICAgICAgICAKICAgICAgICAgICAgICAgIHZhciBodG1sXzFiZGE1YWQxNWQwYzRjN2NiNzQ0N2QxOGFlNmZjOGMzID0gJChgPGRpdiBpZD0iaHRtbF8xYmRhNWFkMTVkMGM0YzdjYjc0NDdkMThhZTZmYzhjMyIgc3R5bGU9IndpZHRoOiAxMDAuMCU7IGhlaWdodDogMTAwLjAlOyI+QW5kYW1hbiBhbmQgTmljb2JhciBJc2xhbmRzICAzMTA0ICBvbiAzMC8wOC8yMDIwIDIyOjEyOjI1PC9kaXY+YClbMF07CiAgICAgICAgICAgICAgICBwb3B1cF83ODg2MjBhOTFlOGM0ZWFkYTZlMTQ3MjMxNjBkODNhNy5zZXRDb250ZW50KGh0bWxfMWJkYTVhZDE1ZDBjNGM3Y2I3NDQ3ZDE4YWU2ZmM4YzMpOwogICAgICAgICAgICAKCiAgICAgICAgICAgIGNpcmNsZV8yOGEwNjA1ZDg2NjQ0ZDJjOWZmMWYwOWM0YTVmMDljOC5iaW5kUG9wdXAocG9wdXBfNzg4NjIwYTkxZThjNGVhZGE2ZTE0NzIzMTYwZDgzYTcpCiAgICAgICAgICAgIDsKCiAgICAgICAgICAgIAogICAgICAgIAogICAgCgogICAgICAgICAgICB2YXIgY2lyY2xlXzY2YWRlZWFhMzliNjQ0NTBhOWYyZjk5YjAxNGZkN2U3ID0gTC5jaXJjbGUoCiAgICAgICAgICAgICAgICBbMzQuMTcsIDc3LjU4XSwKICAgICAgICAgICAgICAgIHsKICAiYnViYmxpbmdNb3VzZUV2ZW50cyI6IHRydWUsCiAgImNvbG9yIjogInJlZCIsCiAgImRhc2hBcnJheSI6IG51bGwsCiAgImRhc2hPZmZzZXQiOiBudWxsLAogICJmaWxsIjogdHJ1ZSwKICAiZmlsbENvbG9yIjogInJlZCIsCiAgImZpbGxPcGFjaXR5IjogMC4yLAogICJmaWxsUnVsZSI6ICJldmVub2RkIiwKICAibGluZUNhcCI6ICJyb3VuZCIsCiAgImxpbmVKb2luIjogInJvdW5kIiwKICAib3BhY2l0eSI6IDEuMCwKICAicmFkaXVzIjogMTMxOS4wLAogICJzdHJva2UiOiB0cnVlLAogICJ3ZWlnaHQiOiAzCn0KICAgICAgICAgICAgICAgICkKICAgICAgICAgICAgICAgIC5hZGRUbyhtYXBfZjgxOTI4ZjI3NGQyNDk2Zjk3YTMzMmFlYTgxMzUxMzUpOwogICAgICAgICAgICAKICAgIAogICAgICAgICAgICB2YXIgcG9wdXBfYjY5M2VhZDcyYThmNDM2NWE2NmZlNjg2Zjk3ODJlNDcgPSBMLnBvcHVwKHttYXhXaWR0aDogJzEwMCUnCiAgICAgICAgICAgIAogICAgICAgICAgICB9KTsKCiAgICAgICAgICAgIAogICAgICAgICAgICAgICAgdmFyIGh0bWxfZTlkOTZhMjU1NjYxNDM1ZWE2MzFmYTM0YjAzMzMxMWEgPSAkKGA8ZGl2IGlkPSJodG1sX2U5ZDk2YTI1NTY2MTQzNWVhNjMxZmEzNGIwMzMzMTFhIiBzdHlsZT0id2lkdGg6IDEwMC4wJTsgaGVpZ2h0OiAxMDAuMCU7Ij5MYWRha2ggIDI2MzggIG9uIDMwLzA4LzIwMjAgMjM6MTk6MTc8L2Rpdj5gKVswXTsKICAgICAgICAgICAgICAgIHBvcHVwX2I2OTNlYWQ3MmE4ZjQzNjVhNjZmZTY4NmY5NzgyZTQ3LnNldENvbnRlbnQoaHRtbF9lOWQ5NmEyNTU2NjE0MzVlYTYzMWZhMzRiMDMzMzExYSk7CiAgICAgICAgICAgIAoKICAgICAgICAgICAgY2lyY2xlXzY2YWRlZWFhMzliNjQ0NTBhOWYyZjk5YjAxNGZkN2U3LmJpbmRQb3B1cChwb3B1cF9iNjkzZWFkNzJhOGY0MzY1YTY2ZmU2ODZmOTc4MmU0NykKICAgICAgICAgICAgOwoKICAgICAgICAgICAgCiAgICAgICAgCiAgICAKCiAgICAgICAgICAgIHZhciBjaXJjbGVfN2RjYjA5ZjRiYjRlNDJjYmFmODE4ZTY4MGI5MjE2MWYgPSBMLmNpcmNsZSgKICAgICAgICAgICAgICAgIFszMC43MzMzLCA3Ni43Nzk0XSwKICAgICAgICAgICAgICAgIHsKICAiYnViYmxpbmdNb3VzZUV2ZW50cyI6IHRydWUsCiAgImNvbG9yIjogInJlZCIsCiAgImRhc2hBcnJheSI6IG51bGwsCiAgImRhc2hPZmZzZXQiOiBudWxsLAogICJmaWxsIjogdHJ1ZSwKICAiZmlsbENvbG9yIjogInJlZCIsCiAgImZpbGxPcGFjaXR5IjogMC4yLAogICJmaWxsUnVsZSI6ICJldmVub2RkIiwKICAibGluZUNhcCI6ICJyb3VuZCIsCiAgImxpbmVKb2luIjogInJvdW5kIiwKICAib3BhY2l0eSI6IDEuMCwKICAicmFkaXVzIjogMjE3My4wLAogICJzdHJva2UiOiB0cnVlLAogICJ3ZWlnaHQiOiAzCn0KICAgICAgICAgICAgICAgICkKICAgICAgICAgICAgICAgIC5hZGRUbyhtYXBfZjgxOTI4ZjI3NGQyNDk2Zjk3YTMzMmFlYTgxMzUxMzUpOwogICAgICAgICAgICAKICAgIAogICAgICAgICAgICB2YXIgcG9wdXBfN2JlOTk3MGU4Njk5NGU3Njk5ZThhOTM5MDhjMTQ1MTQgPSBMLnBvcHVwKHttYXhXaWR0aDogJzEwMCUnCiAgICAgICAgICAgIAogICAgICAgICAgICB9KTsKCiAgICAgICAgICAgIAogICAgICAgICAgICAgICAgdmFyIGh0bWxfYmFkZDM1MWVlOTZkNGYwYWFhZGUxYmE3Yjg2ZDdlZTYgPSAkKGA8ZGl2IGlkPSJodG1sX2JhZGQzNTFlZTk2ZDRmMGFhYWRlMWJhN2I4NmQ3ZWU2IiBzdHlsZT0id2lkdGg6IDEwMC4wJTsgaGVpZ2h0OiAxMDAuMCU7Ij5DaGFuZGlnYXJoICA0MzQ2ICBvbiAzMS8wOC8yMDIwIDE5OjM4OjQwPC9kaXY+YClbMF07CiAgICAgICAgICAgICAgICBwb3B1cF83YmU5OTcwZTg2OTk0ZTc2OTllOGE5MzkwOGMxNDUxNC5zZXRDb250ZW50KGh0bWxfYmFkZDM1MWVlOTZkNGYwYWFhZGUxYmE3Yjg2ZDdlZTYpOwogICAgICAgICAgICAKCiAgICAgICAgICAgIGNpcmNsZV83ZGNiMDlmNGJiNGU0MmNiYWY4MThlNjgwYjkyMTYxZi5iaW5kUG9wdXAocG9wdXBfN2JlOTk3MGU4Njk5NGU3Njk5ZThhOTM5MDhjMTQ1MTQpCiAgICAgICAgICAgIDsKCiAgICAgICAgICAgIAogICAgICAgIAogICAgCgogICAgICAgICAgICB2YXIgY2lyY2xlXzVkYmEwMTQ1ZTA4NTQzOTdiZGU1NWU2NDRlYjJiOTVjID0gTC5jaXJjbGUoCiAgICAgICAgICAgICAgICBbMjAuMTgwOSwgNzMuMDE2OV0sCiAgICAgICAgICAgICAgICB7CiAgImJ1YmJsaW5nTW91c2VFdmVudHMiOiB0cnVlLAogICJjb2xvciI6ICJyZWQiLAogICJkYXNoQXJyYXkiOiBudWxsLAogICJkYXNoT2Zmc2V0IjogbnVsbCwKICAiZmlsbCI6IHRydWUsCiAgImZpbGxDb2xvciI6ICJyZWQiLAogICJmaWxsT3BhY2l0eSI6IDAuMiwKICAiZmlsbFJ1bGUiOiAiZXZlbm9kZCIsCiAgImxpbmVDYXAiOiAicm91bmQiLAogICJsaW5lSm9pbiI6ICJyb3VuZCIsCiAgIm9wYWNpdHkiOiAxLjAsCiAgInJhZGl1cyI6IDExODMuNSwKICAic3Ryb2tlIjogdHJ1ZSwKICAid2VpZ2h0IjogMwp9CiAgICAgICAgICAgICAgICApCiAgICAgICAgICAgICAgICAuYWRkVG8obWFwX2Y4MTkyOGYyNzRkMjQ5NmY5N2EzMzJhZWE4MTM1MTM1KTsKICAgICAgICAgICAgCiAgICAKICAgICAgICAgICAgdmFyIHBvcHVwXzc3MWQxZDExMWE1MzRhMzk5NWJmMzEwMzgyZGZlY2I1ID0gTC5wb3B1cCh7bWF4V2lkdGg6ICcxMDAlJwogICAgICAgICAgICAKICAgICAgICAgICAgfSk7CgogICAgICAgICAgICAKICAgICAgICAgICAgICAgIHZhciBodG1sXzJhYWYwZDc4NTAzODQ5NGJiZjk0NmNkZjk1ZjU0N2ExID0gJChgPGRpdiBpZD0iaHRtbF8yYWFmMGQ3ODUwMzg0OTRiYmY5NDZjZGY5NWY1NDdhMSIgc3R5bGU9IndpZHRoOiAxMDAuMCU7IGhlaWdodDogMTAwLjAlOyI+RGFkcmEgYW5kIE5hZ2FyIEhhdmVsaSBhbmQgRGFtYW4gYW5kIERpdSAgMjM2NyAgb24gMzEvMDgvMjAyMCAyMTozOTo0MzwvZGl2PmApWzBdOwogICAgICAgICAgICAgICAgcG9wdXBfNzcxZDFkMTExYTUzNGEzOTk1YmYzMTAzODJkZmVjYjUuc2V0Q29udGVudChodG1sXzJhYWYwZDc4NTAzODQ5NGJiZjk0NmNkZjk1ZjU0N2ExKTsKICAgICAgICAgICAgCgogICAgICAgICAgICBjaXJjbGVfNWRiYTAxNDVlMDg1NDM5N2JkZTU1ZTY0NGViMmI5NWMuYmluZFBvcHVwKHBvcHVwXzc3MWQxZDExMWE1MzRhMzk5NWJmMzEwMzgyZGZlY2I1KQogICAgICAgICAgICA7CgogICAgICAgICAgICAKICAgICAgICAKICAgIAoKICAgICAgICAgICAgdmFyIGNpcmNsZV83NjM3NTEwNTUzZGM0YzFjOGYzMDQxOWMyMGUzYTdmNiA9IEwuY2lyY2xlKAogICAgICAgICAgICAgICAgWzI1LjQ2NywgOTEuMzY2Ml0sCiAgICAgICAgICAgICAgICB7CiAgImJ1YmJsaW5nTW91c2VFdmVudHMiOiB0cnVlLAogICJjb2xvciI6ICJyZWQiLAogICJkYXNoQXJyYXkiOiBudWxsLAogICJkYXNoT2Zmc2V0IjogbnVsbCwKICAiZmlsbCI6IHRydWUsCiAgImZpbGxDb2xvciI6ICJyZWQiLAogICJmaWxsT3BhY2l0eSI6IDAuMiwKICAiZmlsbFJ1bGUiOiAiZXZlbm9kZCIsCiAgImxpbmVDYXAiOiAicm91bmQiLAogICJsaW5lSm9pbiI6ICJyb3VuZCIsCiAgIm9wYWNpdHkiOiAxLjAsCiAgInJhZGl1cyI6IDExODQuMCwKICAic3Ryb2tlIjogdHJ1ZSwKICAid2VpZ2h0IjogMwp9CiAgICAgICAgICAgICAgICApCiAgICAgICAgICAgICAgICAuYWRkVG8obWFwX2Y4MTkyOGYyNzRkMjQ5NmY5N2EzMzJhZWE4MTM1MTM1KTsKICAgICAgICAgICAgCiAgICAKICAgICAgICAgICAgdmFyIHBvcHVwXzNlMDE0M2VkYWQ0OTQ4MzFhMjgzMTI0M2Q5NzVkMGY3ID0gTC5wb3B1cCh7bWF4V2lkdGg6ICcxMDAlJwogICAgICAgICAgICAKICAgICAgICAgICAgfSk7CgogICAgICAgICAgICAKICAgICAgICAgICAgICAgIHZhciBodG1sX2YxYzZkMDQ4OTg0MjQxZWI4ZDJmNjg3OTczYWFlNjBiID0gJChgPGRpdiBpZD0iaHRtbF9mMWM2ZDA0ODk4NDI0MWViOGQyZjY4Nzk3M2FhZTYwYiIgc3R5bGU9IndpZHRoOiAxMDAuMCU7IGhlaWdodDogMTAwLjAlOyI+TWVnaGFsYXlhICAyMzY4ICBvbiAzMS8wOC8yMDIwIDIxOjM5OjUyPC9kaXY+YClbMF07CiAgICAgICAgICAgICAgICBwb3B1cF8zZTAxNDNlZGFkNDk0ODMxYTI4MzEyNDNkOTc1ZDBmNy5zZXRDb250ZW50KGh0bWxfZjFjNmQwNDg5ODQyNDFlYjhkMmY2ODc5NzNhYWU2MGIpOwogICAgICAgICAgICAKCiAgICAgICAgICAgIGNpcmNsZV83NjM3NTEwNTUzZGM0YzFjOGYzMDQxOWMyMGUzYTdmNi5iaW5kUG9wdXAocG9wdXBfM2UwMTQzZWRhZDQ5NDgzMWEyODMxMjQzZDk3NWQwZjcpCiAgICAgICAgICAgIDsKCiAgICAgICAgICAgIAogICAgICAgIAogICAgCgogICAgICAgICAgICB2YXIgY2lyY2xlX2EyYmE4NWE4NTVmZDQ5N2I4MWM0ZDA4OWYwZDYxYWJmID0gTC5jaXJjbGUoCiAgICAgICAgICAgICAgICBbMjcuNTMzLCA4OC41MTIyXSwKICAgICAgICAgICAgICAgIHsKICAiYnViYmxpbmdNb3VzZUV2ZW50cyI6IHRydWUsCiAgImNvbG9yIjogInJlZCIsCiAgImRhc2hBcnJheSI6IG51bGwsCiAgImRhc2hPZmZzZXQiOiBudWxsLAogICJmaWxsIjogdHJ1ZSwKICAiZmlsbENvbG9yIjogInJlZCIsCiAgImZpbGxPcGFjaXR5IjogMC4yLAogICJmaWxsUnVsZSI6ICJldmVub2RkIiwKICAibGluZUNhcCI6ICJyb3VuZCIsCiAgImxpbmVKb2luIjogInJvdW5kIiwKICAib3BhY2l0eSI6IDEuMCwKICAicmFkaXVzIjogODI2LjAsCiAgInN0cm9rZSI6IHRydWUsCiAgIndlaWdodCI6IDMKfQogICAgICAgICAgICAgICAgKQogICAgICAgICAgICAgICAgLmFkZFRvKG1hcF9mODE5MjhmMjc0ZDI0OTZmOTdhMzMyYWVhODEzNTEzNSk7CiAgICAgICAgICAgIAogICAgCiAgICAgICAgICAgIHZhciBwb3B1cF81ZmZhZGI3ZDhmMTY0YmQ2YmUwNTI4OGI2ZmE1ZjhkNSA9IEwucG9wdXAoe21heFdpZHRoOiAnMTAwJScKICAgICAgICAgICAgCiAgICAgICAgICAgIH0pOwoKICAgICAgICAgICAgCiAgICAgICAgICAgICAgICB2YXIgaHRtbF9mMDU0YTllNDNmYWQ0NTk4YmY5ODBhYzdmNzNmOWY4NCA9ICQoYDxkaXYgaWQ9Imh0bWxfZjA1NGE5ZTQzZmFkNDU5OGJmOTgwYWM3ZjczZjlmODQiIHN0eWxlPSJ3aWR0aDogMTAwLjAlOyBoZWlnaHQ6IDEwMC4wJTsiPlNpa2tpbSAgMTY1MiAgb24gMzEvMDgvMjAyMCAyMDozMjo0NDwvZGl2PmApWzBdOwogICAgICAgICAgICAgICAgcG9wdXBfNWZmYWRiN2Q4ZjE2NGJkNmJlMDUyODhiNmZhNWY4ZDUuc2V0Q29udGVudChodG1sX2YwNTRhOWU0M2ZhZDQ1OThiZjk4MGFjN2Y3M2Y5Zjg0KTsKICAgICAgICAgICAgCgogICAgICAgICAgICBjaXJjbGVfYTJiYTg1YTg1NWZkNDk3YjgxYzRkMDg5ZjBkNjFhYmYuYmluZFBvcHVwKHBvcHVwXzVmZmFkYjdkOGYxNjRiZDZiZTA1Mjg4YjZmYTVmOGQ1KQogICAgICAgICAgICA7CgogICAgICAgICAgICAKICAgICAgICAKICAgIAoKICAgICAgICAgICAgdmFyIGNpcmNsZV8zNDA2MjUwNDc5ODM0ZGNkODdhZTQ5YjMwMTgzNGM1ZSA9IEwuY2lyY2xlKAogICAgICAgICAgICAgICAgWzIzLjE2NDUsIDkyLjkzNzZdLAogICAgICAgICAgICAgICAgewogICJidWJibGluZ01vdXNlRXZlbnRzIjogdHJ1ZSwKICAiY29sb3IiOiAicmVkIiwKICAiZGFzaEFycmF5IjogbnVsbCwKICAiZGFzaE9mZnNldCI6IG51bGwsCiAgImZpbGwiOiB0cnVlLAogICJmaWxsQ29sb3IiOiAicmVkIiwKICAiZmlsbE9wYWNpdHkiOiAwLjIsCiAgImZpbGxSdWxlIjogImV2ZW5vZGQiLAogICJsaW5lQ2FwIjogInJvdW5kIiwKICAibGluZUpvaW4iOiAicm91bmQiLAogICJvcGFjaXR5IjogMS4wLAogICJyYWRpdXMiOiA1MDUuNSwKICAic3Ryb2tlIjogdHJ1ZSwKICAid2VpZ2h0IjogMwp9CiAgICAgICAgICAgICAgICApCiAgICAgICAgICAgICAgICAuYWRkVG8obWFwX2Y4MTkyOGYyNzRkMjQ5NmY5N2EzMzJhZWE4MTM1MTM1KTsKICAgICAgICAgICAgCiAgICAKICAgICAgICAgICAgdmFyIHBvcHVwXzRmZTQ2YzZlMzE1MTQ0OWFiNmNiYjZkMmE2ZGRkMjE1ID0gTC5wb3B1cCh7bWF4V2lkdGg6ICcxMDAlJwogICAgICAgICAgICAKICAgICAgICAgICAgfSk7CgogICAgICAgICAgICAKICAgICAgICAgICAgICAgIHZhciBodG1sXzAwYzVkMjA3MGVkODQ0YTI5ZDg2M2QxMjZlMGZkYzY4ID0gJChgPGRpdiBpZD0iaHRtbF8wMGM1ZDIwNzBlZDg0NGEyOWQ4NjNkMTI2ZTBmZGM2OCIgc3R5bGU9IndpZHRoOiAxMDAuMCU7IGhlaWdodDogMTAwLjAlOyI+TWl6b3JhbSAgMTAxMSAgb24gMzEvMDgvMjAyMCAwOTozOTozMzwvZGl2PmApWzBdOwogICAgICAgICAgICAgICAgcG9wdXBfNGZlNDZjNmUzMTUxNDQ5YWI2Y2JiNmQyYTZkZGQyMTUuc2V0Q29udGVudChodG1sXzAwYzVkMjA3MGVkODQ0YTI5ZDg2M2QxMjZlMGZkYzY4KTsKICAgICAgICAgICAgCgogICAgICAgICAgICBjaXJjbGVfMzQwNjI1MDQ3OTgzNGRjZDg3YWU0OWIzMDE4MzRjNWUuYmluZFBvcHVwKHBvcHVwXzRmZTQ2YzZlMzE1MTQ0OWFiNmNiYjZkMmE2ZGRkMjE1KQogICAgICAgICAgICA7CgogICAgICAgICAgICAKICAgICAgICAKPC9zY3JpcHQ+ onload=\"this.contentDocument.open();this.contentDocument.write(atob(this.getAttribute('data-html')));this.contentDocument.close();\" allowfullscreen webkitallowfullscreen mozallowfullscreen></iframe></div></div>"
            ],
            "text/plain": [
              "<folium.folium.Map at 0x7f1da357b748>"
            ]
          },
          "metadata": {
            "tags": []
          },
          "execution_count": 22
        }
      ]
    },
    {
      "cell_type": "markdown",
      "metadata": {
        "id": "XQS9oIkAFw6u",
        "colab_type": "text"
      },
      "source": [
        "---"
      ]
    }
  ]
}